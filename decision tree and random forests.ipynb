
  {
   "cell_type": "code",
   "execution_count": 1,
   "metadata": {},
   "outputs": [],
   "source": [
    "from sklearn.datasets import load_iris\n",
    "import pandas as pd\n",
    "import numpy as np\n",
    "from sklearn.tree import DecisionTreeClassifier"
   ]
  },
  {
   "cell_type": "markdown",
   "metadata": {},
   "source": [
    "### processing data"
   ]
  },
  {
   "cell_type": "code",
   "execution_count": 2,
   "metadata": {},
   "outputs": [],
   "source": [
    "iris = load_iris()"
   ]
  },
  {
   "cell_type": "code",
   "execution_count": 3,
   "metadata": {},
   "outputs": [
    {
     "data": {
      "text/plain": [
       "['sepal length (cm)',\n",
       " 'sepal width (cm)',\n",
       " 'petal length (cm)',\n",
       " 'petal width (cm)']"
      ]
     },
     "execution_count": 3,
     "metadata": {},
     "output_type": "execute_result"
    }
   ],
   "source": [
    "iris.feature_names"
   ]
  },
  {
   "cell_type": "code",
   "execution_count": 4,
   "metadata": {},
   "outputs": [],
   "source": [
    "data = pd.DataFrame(iris.data,columns = iris.feature_names)"
   ]
  },
  {
   "cell_type": "code",
   "execution_count": 5,
   "metadata": {},
   "outputs": [
    {
     "data": {
      "text/html": [
       "<div>\n",
       "<style scoped>\n",
       "    .dataframe tbody tr th:only-of-type {\n",
       "        vertical-align: middle;\n",
       "    }\n",
       "\n",
       "    .dataframe tbody tr th {\n",
       "        vertical-align: top;\n",
       "    }\n",
       "\n",
       "    .dataframe thead th {\n",
       "        text-align: right;\n",
       "    }\n",
       "</style>\n",
       "<table border=\"1\" class=\"dataframe\">\n",
       "  <thead>\n",
       "    <tr style=\"text-align: right;\">\n",
       "      <th></th>\n",
       "      <th>sepal length (cm)</th>\n",
       "      <th>sepal width (cm)</th>\n",
       "      <th>petal length (cm)</th>\n",
       "      <th>petal width (cm)</th>\n",
       "    </tr>\n",
       "  </thead>\n",
       "  <tbody>\n",
       "    <tr>\n",
       "      <th>0</th>\n",
       "      <td>5.1</td>\n",
       "      <td>3.5</td>\n",
       "      <td>1.4</td>\n",
       "      <td>0.2</td>\n",
       "    </tr>\n",
       "    <tr>\n",
       "      <th>1</th>\n",
       "      <td>4.9</td>\n",
       "      <td>3.0</td>\n",
       "      <td>1.4</td>\n",
       "      <td>0.2</td>\n",
       "    </tr>\n",
       "    <tr>\n",
       "      <th>2</th>\n",
       "      <td>4.7</td>\n",
       "      <td>3.2</td>\n",
       "      <td>1.3</td>\n",
       "      <td>0.2</td>\n",
       "    </tr>\n",
       "    <tr>\n",
       "      <th>3</th>\n",
       "      <td>4.6</td>\n",
       "      <td>3.1</td>\n",
       "      <td>1.5</td>\n",
       "      <td>0.2</td>\n",
       "    </tr>\n",
       "    <tr>\n",
       "      <th>4</th>\n",
       "      <td>5.0</td>\n",
       "      <td>3.6</td>\n",
       "      <td>1.4</td>\n",
       "      <td>0.2</td>\n",
       "    </tr>\n",
       "  </tbody>\n",
       "</table>\n",
       "</div>"
      ],
      "text/plain": [
       "   sepal length (cm)  sepal width (cm)  petal length (cm)  petal width (cm)\n",
       "0                5.1               3.5                1.4               0.2\n",
       "1                4.9               3.0                1.4               0.2\n",
       "2                4.7               3.2                1.3               0.2\n",
       "3                4.6               3.1                1.5               0.2\n",
       "4                5.0               3.6                1.4               0.2"
      ]
     },
     "execution_count": 5,
     "metadata": {},
     "output_type": "execute_result"
    }
   ],
   "source": [
    "data.head()"
   ]
  },
  {
   "cell_type": "code",
   "execution_count": 6,
   "metadata": {},
   "outputs": [],
   "source": [
    "data['target'] = iris.target"
   ]
  },
  {
   "cell_type": "code",
   "execution_count": 7,
   "metadata": {},
   "outputs": [
    {
     "data": {
      "text/html": [
       "<div>\n",
       "<style scoped>\n",
       "    .dataframe tbody tr th:only-of-type {\n",
       "        vertical-align: middle;\n",
       "    }\n",
       "\n",
       "    .dataframe tbody tr th {\n",
       "        vertical-align: top;\n",
       "    }\n",
       "\n",
       "    .dataframe thead th {\n",
       "        text-align: right;\n",
       "    }\n",
       "</style>\n",
       "<table border=\"1\" class=\"dataframe\">\n",
       "  <thead>\n",
       "    <tr style=\"text-align: right;\">\n",
       "      <th></th>\n",
       "      <th>sepal length (cm)</th>\n",
       "      <th>sepal width (cm)</th>\n",
       "      <th>petal length (cm)</th>\n",
       "      <th>petal width (cm)</th>\n",
       "      <th>target</th>\n",
       "    </tr>\n",
       "  </thead>\n",
       "  <tbody>\n",
       "    <tr>\n",
       "      <th>0</th>\n",
       "      <td>5.1</td>\n",
       "      <td>3.5</td>\n",
       "      <td>1.4</td>\n",
       "      <td>0.2</td>\n",
       "      <td>0</td>\n",
       "    </tr>\n",
       "    <tr>\n",
       "      <th>1</th>\n",
       "      <td>4.9</td>\n",
       "      <td>3.0</td>\n",
       "      <td>1.4</td>\n",
       "      <td>0.2</td>\n",
       "      <td>0</td>\n",
       "    </tr>\n",
       "    <tr>\n",
       "      <th>2</th>\n",
       "      <td>4.7</td>\n",
       "      <td>3.2</td>\n",
       "      <td>1.3</td>\n",
       "      <td>0.2</td>\n",
       "      <td>0</td>\n",
       "    </tr>\n",
       "    <tr>\n",
       "      <th>3</th>\n",
       "      <td>4.6</td>\n",
       "      <td>3.1</td>\n",
       "      <td>1.5</td>\n",
       "      <td>0.2</td>\n",
       "      <td>0</td>\n",
       "    </tr>\n",
       "    <tr>\n",
       "      <th>4</th>\n",
       "      <td>5.0</td>\n",
       "      <td>3.6</td>\n",
       "      <td>1.4</td>\n",
       "      <td>0.2</td>\n",
       "      <td>0</td>\n",
       "    </tr>\n",
       "  </tbody>\n",
       "</table>\n",
       "</div>"
      ],
      "text/plain": [
       "   sepal length (cm)  sepal width (cm)  petal length (cm)  petal width (cm)  \\\n",
       "0                5.1               3.5                1.4               0.2   \n",
       "1                4.9               3.0                1.4               0.2   \n",
       "2                4.7               3.2                1.3               0.2   \n",
       "3                4.6               3.1                1.5               0.2   \n",
       "4                5.0               3.6                1.4               0.2   \n",
       "\n",
       "   target  \n",
       "0       0  \n",
       "1       0  \n",
       "2       0  \n",
       "3       0  \n",
       "4       0  "
      ]
     },
     "execution_count": 7,
     "metadata": {},
     "output_type": "execute_result"
    }
   ],
   "source": [
    "data.head()"
   ]
  },
  {
   "cell_type": "code",
   "execution_count": 8,
   "metadata": {},
   "outputs": [
    {
     "data": {
      "text/plain": [
       "array(['setosa', 'versicolor', 'virginica'], dtype='<U10')"
      ]
     },
     "execution_count": 8,
     "metadata": {},
     "output_type": "execute_result"
    }
   ],
   "source": [
    "iris.target_names"
   ]
  },
  {
   "cell_type": "code",
   "execution_count": 9,
   "metadata": {},
   "outputs": [],
   "source": [
    "data['flower name'] = data['target'].apply(lambda x: iris.target_names[x])"
   ]
  },
  {
   "cell_type": "code",
   "execution_count": 10,
   "metadata": {},
   "outputs": [
    {
     "data": {
      "text/html": [
       "<div>\n",
       "<style scoped>\n",
       "    .dataframe tbody tr th:only-of-type {\n",
       "        vertical-align: middle;\n",
       "    }\n",
       "\n",
       "    .dataframe tbody tr th {\n",
       "        vertical-align: top;\n",
       "    }\n",
       "\n",
       "    .dataframe thead th {\n",
       "        text-align: right;\n",
       "    }\n",
       "</style>\n",
       "<table border=\"1\" class=\"dataframe\">\n",
       "  <thead>\n",
       "    <tr style=\"text-align: right;\">\n",
       "      <th></th>\n",
       "      <th>sepal length (cm)</th>\n",
       "      <th>sepal width (cm)</th>\n",
       "      <th>petal length (cm)</th>\n",
       "      <th>petal width (cm)</th>\n",
       "      <th>target</th>\n",
       "      <th>flower name</th>\n",
       "    </tr>\n",
       "  </thead>\n",
       "  <tbody>\n",
       "    <tr>\n",
       "      <th>0</th>\n",
       "      <td>5.1</td>\n",
       "      <td>3.5</td>\n",
       "      <td>1.4</td>\n",
       "      <td>0.2</td>\n",
       "      <td>0</td>\n",
       "      <td>setosa</td>\n",
       "    </tr>\n",
       "    <tr>\n",
       "      <th>1</th>\n",
       "      <td>4.9</td>\n",
       "      <td>3.0</td>\n",
       "      <td>1.4</td>\n",
       "      <td>0.2</td>\n",
       "      <td>0</td>\n",
       "      <td>setosa</td>\n",
       "    </tr>\n",
       "    <tr>\n",
       "      <th>2</th>\n",
       "      <td>4.7</td>\n",
       "      <td>3.2</td>\n",
       "      <td>1.3</td>\n",
       "      <td>0.2</td>\n",
       "      <td>0</td>\n",
       "      <td>setosa</td>\n",
       "    </tr>\n",
       "    <tr>\n",
       "      <th>3</th>\n",
       "      <td>4.6</td>\n",
       "      <td>3.1</td>\n",
       "      <td>1.5</td>\n",
       "      <td>0.2</td>\n",
       "      <td>0</td>\n",
       "      <td>setosa</td>\n",
       "    </tr>\n",
       "    <tr>\n",
       "      <th>4</th>\n",
       "      <td>5.0</td>\n",
       "      <td>3.6</td>\n",
       "      <td>1.4</td>\n",
       "      <td>0.2</td>\n",
       "      <td>0</td>\n",
       "      <td>setosa</td>\n",
       "    </tr>\n",
       "  </tbody>\n",
       "</table>\n",
       "</div>"
      ],
      "text/plain": [
       "   sepal length (cm)  sepal width (cm)  petal length (cm)  petal width (cm)  \\\n",
       "0                5.1               3.5                1.4               0.2   \n",
       "1                4.9               3.0                1.4               0.2   \n",
       "2                4.7               3.2                1.3               0.2   \n",
       "3                4.6               3.1                1.5               0.2   \n",
       "4                5.0               3.6                1.4               0.2   \n",
       "\n",
       "   target flower name  \n",
       "0       0      setosa  \n",
       "1       0      setosa  \n",
       "2       0      setosa  \n",
       "3       0      setosa  \n",
       "4       0      setosa  "
      ]
     },
     "execution_count": 10,
     "metadata": {},
     "output_type": "execute_result"
    }
   ],
   "source": [
    "data.head()"
   ]
  },
  {
   "cell_type": "code",
   "execution_count": 11,
   "metadata": {},
   "outputs": [
    {
     "data": {
      "text/html": [
       "<div>\n",
       "<style scoped>\n",
       "    .dataframe tbody tr th:only-of-type {\n",
       "        vertical-align: middle;\n",
       "    }\n",
       "\n",
       "    .dataframe tbody tr th {\n",
       "        vertical-align: top;\n",
       "    }\n",
       "\n",
       "    .dataframe thead th {\n",
       "        text-align: right;\n",
       "    }\n",
       "</style>\n",
       "<table border=\"1\" class=\"dataframe\">\n",
       "  <thead>\n",
       "    <tr style=\"text-align: right;\">\n",
       "      <th></th>\n",
       "      <th>sepal length (cm)</th>\n",
       "      <th>sepal width (cm)</th>\n",
       "      <th>petal length (cm)</th>\n",
       "      <th>petal width (cm)</th>\n",
       "      <th>target</th>\n",
       "      <th>flower name</th>\n",
       "    </tr>\n",
       "  </thead>\n",
       "  <tbody>\n",
       "    <tr>\n",
       "      <th>145</th>\n",
       "      <td>6.7</td>\n",
       "      <td>3.0</td>\n",
       "      <td>5.2</td>\n",
       "      <td>2.3</td>\n",
       "      <td>2</td>\n",
       "      <td>virginica</td>\n",
       "    </tr>\n",
       "    <tr>\n",
       "      <th>146</th>\n",
       "      <td>6.3</td>\n",
       "      <td>2.5</td>\n",
       "      <td>5.0</td>\n",
       "      <td>1.9</td>\n",
       "      <td>2</td>\n",
       "      <td>virginica</td>\n",
       "    </tr>\n",
       "    <tr>\n",
       "      <th>147</th>\n",
       "      <td>6.5</td>\n",
       "      <td>3.0</td>\n",
       "      <td>5.2</td>\n",
       "      <td>2.0</td>\n",
       "      <td>2</td>\n",
       "      <td>virginica</td>\n",
       "    </tr>\n",
       "    <tr>\n",
       "      <th>148</th>\n",
       "      <td>6.2</td>\n",
       "      <td>3.4</td>\n",
       "      <td>5.4</td>\n",
       "      <td>2.3</td>\n",
       "      <td>2</td>\n",
       "      <td>virginica</td>\n",
       "    </tr>\n",
       "    <tr>\n",
       "      <th>149</th>\n",
       "      <td>5.9</td>\n",
       "      <td>3.0</td>\n",
       "      <td>5.1</td>\n",
       "      <td>1.8</td>\n",
       "      <td>2</td>\n",
       "      <td>virginica</td>\n",
       "    </tr>\n",
       "  </tbody>\n",
       "</table>\n",
       "</div>"
      ],
      "text/plain": [
       "     sepal length (cm)  sepal width (cm)  petal length (cm)  petal width (cm)  \\\n",
       "145                6.7               3.0                5.2               2.3   \n",
       "146                6.3               2.5                5.0               1.9   \n",
       "147                6.5               3.0                5.2               2.0   \n",
       "148                6.2               3.4                5.4               2.3   \n",
       "149                5.9               3.0                5.1               1.8   \n",
       "\n",
       "     target flower name  \n",
       "145       2   virginica  \n",
       "146       2   virginica  \n",
       "147       2   virginica  \n",
       "148       2   virginica  \n",
       "149       2   virginica  "
      ]
     },
     "execution_count": 11,
     "metadata": {},
     "output_type": "execute_result"
    }
   ],
   "source": [
    "data.tail()"
   ]
  },
  {
   "cell_type": "code",
   "execution_count": 12,
   "metadata": {},
   "outputs": [],
   "source": [
    "X = data.drop(['target','flower name'],axis = 'columns')"
   ]
  },
  {
   "cell_type": "code",
   "execution_count": 13,
   "metadata": {},
   "outputs": [],
   "source": [
    "y = data['flower name']"
   ]
  },
  {
   "cell_type": "code",
   "execution_count": 14,
   "metadata": {},
   "outputs": [],
   "source": [
    "from sklearn.model_selection import train_test_split"
   ]
  },
  {
   "cell_type": "code",
   "execution_count": 15,
   "metadata": {},
   "outputs": [],
   "source": [
    "X_train,X_test,y_train,y_test = train_test_split(X,y,test_size = 0.2)"
   ]
  },
  {
   "cell_type": "markdown",
   "metadata": {},
   "source": [
    "### decisionTree model"
   ]
  },
  {
   "cell_type": "code",
   "execution_count": 51,
   "metadata": {},
   "outputs": [],
   "source": [
    "model = DecisionTreeClassifier(criterion = 'entropy')"
   ]
  },
  {
   "cell_type": "code",
   "execution_count": 52,
   "metadata": {},
   "outputs": [
    {
     "data": {
      "text/plain": [
       "DecisionTreeClassifier(class_weight=None, criterion='entropy', max_depth=None,\n",
       "                       max_features=None, max_leaf_nodes=None,\n",
       "                       min_impurity_decrease=0.0, min_impurity_split=None,\n",
       "                       min_samples_leaf=1, min_samples_split=2,\n",
       "                       min_weight_fraction_leaf=0.0, presort=False,\n",
       "                       random_state=None, splitter='best')"
      ]
     },
     "execution_count": 52,
     "metadata": {},
     "output_type": "execute_result"
    }
   ],
   "source": [
    "model.fit(X_train,y_train)"
   ]
  },
  {
   "cell_type": "code",
   "execution_count": 53,
   "metadata": {},
   "outputs": [
    {
     "data": {
      "text/plain": [
       "0.9666666666666667"
      ]
     },
     "execution_count": 53,
     "metadata": {},
     "output_type": "execute_result"
    }
   ],
   "source": [
    "model.score(X_test,y_test)"
   ]
  },
  {
   "cell_type": "code",
   "execution_count": 54,
   "metadata": {},
   "outputs": [
    {
     "data": {
      "text/plain": [
       "array(['virginica'], dtype=object)"
      ]
     },
     "execution_count": 54,
     "metadata": {},
     "output_type": "execute_result"
    }
   ],
   "source": [
    "# imagine we want to predict the type of flower depending on the sepal length and width ,petal length and width\n",
    "# lets say sepal length is 2,width is 3 and petal length is 4 ,width is 5\n",
    "# the flower is virginica\n",
    "model.predict([[2,3,4,5]])"
   ]
  },
  {
   "cell_type": "code",
   "execution_count": 55,
   "metadata": {},
   "outputs": [],
   "source": [
    "prediction1 = model.predict(X_test)"
   ]
  },
  {
   "cell_type": "code",
   "execution_count": 56,
   "metadata": {},
   "outputs": [],
   "source": [
    "from sklearn import metrics "
   ]
  },
  {
   "cell_type": "code",
   "execution_count": 57,
   "metadata": {},
   "outputs": [
    {
     "name": "stdout",
     "output_type": "stream",
     "text": [
      "              precision    recall  f1-score   support\n",
      "\n",
      "      setosa       1.00      1.00      1.00        11\n",
      "  versicolor       0.88      1.00      0.93         7\n",
      "   virginica       1.00      0.92      0.96        12\n",
      "\n",
      "    accuracy                           0.97        30\n",
      "   macro avg       0.96      0.97      0.96        30\n",
      "weighted avg       0.97      0.97      0.97        30\n",
      "\n"
     ]
    }
   ],
   "source": [
    "print(metrics.classification_report(y_test,prediction1))"
   ]
  },
  {
   "cell_type": "markdown",
   "metadata": {},
   "source": [
    "### random forests"
   ]
  },
  {
   "cell_type": "code",
   "execution_count": 58,
   "metadata": {},
   "outputs": [],
   "source": [
    "from sklearn.ensemble import RandomForestClassifier"
   ]
  },
  {
   "cell_type": "code",
   "execution_count": 43,
   "metadata": {},
   "outputs": [],
   "source": [
    "model2 = RandomForestClassifier(n_estimators = 150)"
   ]
  },
  {
   "cell_type": "code",
   "execution_count": 44,
   "metadata": {},
   "outputs": [
    {
     "data": {
      "text/plain": [
       "RandomForestClassifier(bootstrap=True, class_weight=None, criterion='gini',\n",
       "                       max_depth=None, max_features='auto', max_leaf_nodes=None,\n",
       "                       min_impurity_decrease=0.0, min_impurity_split=None,\n",
       "                       min_samples_leaf=1, min_samples_split=2,\n",
       "                       min_weight_fraction_leaf=0.0, n_estimators=150,\n",
       "                       n_jobs=None, oob_score=False, random_state=None,\n",
       "                       verbose=0, warm_start=False)"
      ]
     },
     "execution_count": 44,
     "metadata": {},
     "output_type": "execute_result"
    }
   ],
   "source": [
    "model2.fit(X_train,y_train)"
   ]
  },
  {
   "cell_type": "code",
   "execution_count": 45,
   "metadata": {},
   "outputs": [
    {
     "data": {
      "text/plain": [
       "0.9666666666666667"
      ]
     },
     "execution_count": 45,
     "metadata": {},
     "output_type": "execute_result"
    }
   ],
   "source": [
    "model.score(X_test,y_test)"
   ]
  },
  {
   "cell_type": "code",
   "execution_count": 46,
   "metadata": {},
   "outputs": [],
   "source": [
    "prediction2 = model.predict(X_test)"
   ]
  },
  {
   "cell_type": "code",
   "execution_count": 47,
   "metadata": {},
   "outputs": [
    {
     "name": "stdout",
     "output_type": "stream",
     "text": [
      "              precision    recall  f1-score   support\n",
      "\n",
      "      setosa       1.00      1.00      1.00        11\n",
      "  versicolor       0.88      1.00      0.93         7\n",
      "   virginica       1.00      0.92      0.96        12\n",
      "\n",
      "    accuracy                           0.97        30\n",
      "   macro avg       0.96      0.97      0.96        30\n",
      "weighted avg       0.97      0.97      0.97        30\n",
      "\n"
     ]
    }
   ],
   "source": [
    "print(metrics.classification_report(y_test,prediction2))"
   ]
  },
  {
   "cell_type": "code",
   "execution_count": 48,
   "metadata": {},
   "outputs": [],
   "source": [
    "import seaborn as sns"
   ]
  },
  {
   "cell_type": "markdown",
   "metadata": {},
   "source": [
    "Both random forest classfier and decision tree classifier are 100 percent accurate"
   ]
  },
  {
   "cell_type": "code",
   "execution_count": 49,
   "metadata": {},
   "outputs": [
    {
     "data": {
      "text/plain": [
       "<seaborn.axisgrid.JointGrid at 0x1c612159ba8>"
      ]
     },
     "execution_count": 49,
     "metadata": {},
     "output_type": "execute_result"
    },
    {
     "data": {
      "image/png": "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\n",
      "text/plain": [
       "<Figure size 432x432 with 3 Axes>"
      ]
     },
     "metadata": {
      "needs_background": "light"
     },
     "output_type": "display_data"
    }
   ],
   "source": [
    "sns.jointplot('sepal length (cm)','sepal width (cm)',data = data,kind = 'kde')"
   ]
  },
  {
   "cell_type": "code",
   "execution_count": 50,
   "metadata": {},
   "outputs": [
    {
     "data": {
      "text/plain": [
       "array(['setosa', 'versicolor', 'versicolor', 'setosa', 'versicolor',\n",
       "       'setosa', 'virginica', 'setosa', 'virginica', 'virginica',\n",
       "       'versicolor', 'versicolor', 'virginica', 'virginica', 'setosa',\n",
       "       'virginica', 'setosa', 'setosa', 'versicolor', 'virginica',\n",
       "       'virginica', 'versicolor', 'setosa', 'virginica', 'virginica',\n",
       "       'virginica', 'setosa', 'setosa', 'virginica', 'setosa'],\n",
       "      dtype=object)"
      ]
     },
     "execution_count": 50,
     "metadata": {},
     "output_type": "execute_result"
    }
   ],
   "source": [
    "y_test.values"
   ]
  },
  {
   "cell_type": "code",
   "execution_count": 59,
   "metadata": {},
   "outputs": [
    {
     "data": {
      "text/plain": [
       "array(['setosa', 'versicolor', 'versicolor', 'setosa', 'versicolor',\n",
       "       'setosa', 'virginica', 'setosa', 'virginica', 'virginica',\n",
       "       'versicolor', 'versicolor', 'versicolor', 'virginica', 'setosa',\n",
       "       'virginica', 'setosa', 'setosa', 'versicolor', 'virginica',\n",
       "       'virginica', 'versicolor', 'setosa', 'virginica', 'virginica',\n",
       "       'virginica', 'setosa', 'setosa', 'virginica', 'setosa'],\n",
       "      dtype=object)"
      ]
     },
     "execution_count": 59,
     "metadata": {},
     "output_type": "execute_result"
    }
   ],
   "source": [
    "prediction1"
   ]
  },
  {
   "cell_type": "code",
   "execution_count": null,
   "metadata": {},
   "outputs": [],
   "source": []
  }
 ],
 "metadata": {
  "kernelspec": {
   "display_name": "Python 3",
   "language": "python",
   "name": "python3"
  },
  "language_info": {
   "codemirror_mode": {
    "name": "ipython",
    "version": 3
   },
   "file_extension": ".py",
   "mimetype": "text/x-python",
   "name": "python",
   "nbconvert_exporter": "python",
   "pygments_lexer": "ipython3",
   "version": "3.7.3"
  }
 },
 "nbformat": 4,
 "nbformat_minor": 2
}
