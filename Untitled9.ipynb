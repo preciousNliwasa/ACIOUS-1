{
  "nbformat": 4,
  "nbformat_minor": 0,
  "metadata": {
    "colab": {
      "name": "Untitled9.ipynb",
      "provenance": [],
      "collapsed_sections": [],
      "toc_visible": true,
      "authorship_tag": "ABX9TyPIBwPN8b/23Er2GIp159QW",
      "include_colab_link": true
    },
    "kernelspec": {
      "display_name": "Python 3",
      "name": "python3"
    },
    "language_info": {
      "name": "python"
    }
  },
  "cells": [
    {
      "cell_type": "markdown",
      "metadata": {
        "id": "view-in-github",
        "colab_type": "text"
      },
      "source": [
        "<a href=\"https://colab.research.google.com/github/preciousNliwasa/ACIOUS-1/blob/master/Untitled9.ipynb\" target=\"_parent\"><img src=\"https://colab.research.google.com/assets/colab-badge.svg\" alt=\"Open In Colab\"/></a>"
      ]
    },
    {
      "cell_type": "code",
      "metadata": {
        "id": "Jv8GbSwYLgpB"
      },
      "source": [
        "import numpy\n",
        "import random\n",
        "import pickle"
      ],
      "execution_count": null,
      "outputs": []
    },
    {
      "cell_type": "code",
      "metadata": {
        "id": "gmOaCurPL0FE"
      },
      "source": [
        "import nltk\n",
        "from nltk.stem import WordNetLemmatizer"
      ],
      "execution_count": null,
      "outputs": []
    },
    {
      "cell_type": "code",
      "metadata": {
        "id": "cujWIQ8bL0eP"
      },
      "source": [
        "from tensorflow.keras.models import sequential\n"
      ],
      "execution_count": null,
      "outputs": []
    },
    {
      "cell_type": "code",
      "metadata": {
        "colab": {
          "base_uri": "https://localhost:8080/"
        },
        "id": "lr25eJDjL0nR",
        "outputId": "b2075789-51a1-4b7c-acf4-6ae2fe5916ce"
      },
      "source": [
        "!pip install chatterbot"
      ],
      "execution_count": null,
      "outputs": [
        {
          "output_type": "stream",
          "name": "stdout",
          "text": [
            "Requirement already satisfied: chatterbot in /usr/local/lib/python3.7/dist-packages (1.0.8)\n",
            "Requirement already satisfied: pytz in /usr/local/lib/python3.7/dist-packages (from chatterbot) (2018.9)\n",
            "Requirement already satisfied: sqlalchemy<1.4,>=1.3 in /usr/local/lib/python3.7/dist-packages (from chatterbot) (1.3.24)\n",
            "Requirement already satisfied: python-dateutil<2.9,>=2.8 in /usr/local/lib/python3.7/dist-packages (from chatterbot) (2.8.2)\n",
            "Requirement already satisfied: mathparse<0.2,>=0.1 in /usr/local/lib/python3.7/dist-packages (from chatterbot) (0.1.2)\n",
            "Requirement already satisfied: six>=1.5 in /usr/local/lib/python3.7/dist-packages (from python-dateutil<2.9,>=2.8->chatterbot) (1.15.0)\n"
          ]
        }
      ]
    },
    {
      "cell_type": "code",
      "metadata": {
        "id": "e_4M5XO-L01u"
      },
      "source": [
        "import chatterbot"
      ],
      "execution_count": null,
      "outputs": []
    },
    {
      "cell_type": "code",
      "metadata": {
        "colab": {
          "base_uri": "https://localhost:8080/"
        },
        "id": "l-4a1800L1Hi",
        "outputId": "a71e8587-0999-4fca-e569-db3b98e43e1c"
      },
      "source": [
        "dir(chatterbot)"
      ],
      "execution_count": null,
      "outputs": [
        {
          "data": {
            "text/plain": [
              "['ChatBot',\n",
              " '__all__',\n",
              " '__builtins__',\n",
              " '__cached__',\n",
              " '__doc__',\n",
              " '__file__',\n",
              " '__loader__',\n",
              " '__name__',\n",
              " '__package__',\n",
              " '__path__',\n",
              " '__spec__',\n",
              " 'adapters',\n",
              " 'chatterbot',\n",
              " 'constants',\n",
              " 'conversation',\n",
              " 'exceptions',\n",
              " 'filters',\n",
              " 'languages',\n",
              " 'logic',\n",
              " 'parsing',\n",
              " 'search',\n",
              " 'storage',\n",
              " 'tagging',\n",
              " 'utils']"
            ]
          },
          "execution_count": 6,
          "metadata": {},
          "output_type": "execute_result"
        }
      ]
    },
    {
      "cell_type": "code",
      "metadata": {
        "colab": {
          "base_uri": "https://localhost:8080/"
        },
        "id": "zQ6HT8NTL1Q9",
        "outputId": "531a0e29-2091-44e2-ea7f-c59ada996958"
      },
      "source": [
        "!pip install rasa"
      ],
      "execution_count": null,
      "outputs": [
        {
          "name": "stdout",
          "output_type": "stream",
          "text": [
            "Collecting rasa\n",
            "  Downloading rasa-2.8.11-py3-none-any.whl (768 kB)\n",
            "\u001b[K     |████████████████████████████████| 768 kB 5.3 MB/s \n",
            "\u001b[?25hCollecting questionary<1.10.0,>=1.5.1\n",
            "  Downloading questionary-1.9.0-py3-none-any.whl (32 kB)\n",
            "Requirement already satisfied: tensorflow<2.7,>=2.6 in /usr/local/lib/python3.7/dist-packages (from rasa) (2.6.0)\n",
            "Collecting fbmessenger<6.1.0,>=6.0.0\n",
            "  Downloading fbmessenger-6.0.0-py2.py3-none-any.whl (11 kB)\n",
            "Collecting python-engineio!=5.0.0,<6,>=4\n",
            "  Downloading python_engineio-4.2.1-py3-none-any.whl (52 kB)\n",
            "\u001b[K     |████████████████████████████████| 52 kB 507 kB/s \n",
            "\u001b[?25hCollecting aio-pika<7.0.0,>=6.7.1\n",
            "  Downloading aio_pika-6.8.0-py3-none-any.whl (42 kB)\n",
            "\u001b[K     |████████████████████████████████| 42 kB 632 kB/s \n",
            "\u001b[?25hCollecting rocketchat_API<1.17.0,>=0.6.31\n",
            "  Downloading rocketchat_API-1.16.0-py3-none-any.whl (18 kB)\n",
            "Requirement already satisfied: tensorflow-estimator<2.7,>=2.6 in /usr/local/lib/python3.7/dist-packages (from rasa) (2.6.0)\n",
            "Collecting terminaltables<3.2.0,>=3.1.0\n",
            "  Downloading terminaltables-3.1.0.tar.gz (12 kB)\n",
            "Collecting mattermostwrapper<2.3,>=2.2\n",
            "  Downloading mattermostwrapper-2.2.tar.gz (2.5 kB)\n",
            "Collecting pyTelegramBotAPI<4.0.0,>=3.7.3\n",
            "  Downloading pyTelegramBotAPI-3.8.3.tar.gz (104 kB)\n",
            "\u001b[K     |████████████████████████████████| 104 kB 38.6 MB/s \n",
            "\u001b[?25hCollecting pykwalify<1.9,>=1.7\n",
            "  Downloading pykwalify-1.8.0-py2.py3-none-any.whl (24 kB)\n",
            "Requirement already satisfied: python-dateutil<2.9,>=2.8 in /usr/local/lib/python3.7/dist-packages (from rasa) (2.8.2)\n",
            "Collecting tensorflow-addons<0.15,>=0.14\n",
            "  Downloading tensorflow_addons-0.14.0-cp37-cp37m-manylinux_2_12_x86_64.manylinux2010_x86_64.whl (1.1 MB)\n",
            "\u001b[K     |████████████████████████████████| 1.1 MB 38.0 MB/s \n",
            "\u001b[?25hRequirement already satisfied: scikit-learn<0.25,>=0.22 in /usr/local/lib/python3.7/dist-packages (from rasa) (0.22.2.post1)\n",
            "Collecting tarsafe<0.0.4,>=0.0.3\n",
            "  Downloading tarsafe-0.0.3-py3-none-any.whl (5.0 kB)\n",
            "Collecting networkx<2.6,>=2.4\n",
            "  Downloading networkx-2.5.1-py3-none-any.whl (1.6 MB)\n",
            "\u001b[K     |████████████████████████████████| 1.6 MB 40.3 MB/s \n",
            "\u001b[?25hCollecting pymongo[srv,tls]<3.11,>=3.8\n",
            "  Downloading pymongo-3.10.1-cp37-cp37m-manylinux2014_x86_64.whl (462 kB)\n",
            "\u001b[K     |████████████████████████████████| 462 kB 58.2 MB/s \n",
            "\u001b[?25hCollecting redis<4.0,>=3.4\n",
            "  Downloading redis-3.5.3-py2.py3-none-any.whl (72 kB)\n",
            "\u001b[K     |████████████████████████████████| 72 kB 374 kB/s \n",
            "\u001b[?25hCollecting packaging<21.0,>=20.0\n",
            "  Downloading packaging-20.9-py2.py3-none-any.whl (40 kB)\n",
            "\u001b[K     |████████████████████████████████| 40 kB 3.1 MB/s \n",
            "\u001b[?25hCollecting regex<2021.8,>=2020.6\n",
            "  Downloading regex-2021.7.6-cp37-cp37m-manylinux_2_17_x86_64.manylinux2014_x86_64.whl (722 kB)\n",
            "\u001b[K     |████████████████████████████████| 722 kB 35.6 MB/s \n",
            "\u001b[?25hCollecting tensorflow-text<2.7,>=2.6\n",
            "  Downloading tensorflow_text-2.6.0-cp37-cp37m-manylinux1_x86_64.whl (4.4 MB)\n",
            "\u001b[K     |████████████████████████████████| 4.4 MB 29.1 MB/s \n",
            "\u001b[?25hRequirement already satisfied: matplotlib<3.4,>=3.1 in /usr/local/lib/python3.7/dist-packages (from rasa) (3.2.2)\n",
            "Requirement already satisfied: oauth2client==4.1.3 in /usr/local/lib/python3.7/dist-packages (from rasa) (4.1.3)\n",
            "Collecting pydot<1.5,>=1.4\n",
            "  Downloading pydot-1.4.2-py2.py3-none-any.whl (21 kB)\n",
            "Requirement already satisfied: cloudpickle<1.7,>=1.2 in /usr/local/lib/python3.7/dist-packages (from rasa) (1.3.0)\n",
            "Requirement already satisfied: scipy<2.0.0,>=1.4.1 in /usr/local/lib/python3.7/dist-packages (from rasa) (1.4.1)\n",
            "Collecting colorhash<1.1.0,>=1.0.2\n",
            "  Downloading colorhash-1.0.3-py3-none-any.whl (4.0 kB)\n",
            "Collecting kafka-python<3.0,>=1.4\n",
            "  Downloading kafka_python-2.0.2-py2.py3-none-any.whl (246 kB)\n",
            "\u001b[K     |████████████████████████████████| 246 kB 36.0 MB/s \n",
            "\u001b[?25hCollecting sanic<20.12.0,>=19.12.2\n",
            "  Downloading sanic-20.9.1-py3-none-any.whl (79 kB)\n",
            "\u001b[K     |████████████████████████████████| 79 kB 6.2 MB/s \n",
            "\u001b[?25hCollecting apscheduler<3.8,>=3.6\n",
            "  Downloading APScheduler-3.7.0-py2.py3-none-any.whl (59 kB)\n",
            "\u001b[K     |████████████████████████████████| 59 kB 4.0 MB/s \n",
            "\u001b[?25hRequirement already satisfied: tensorflow_hub<0.13,>=0.10 in /usr/local/lib/python3.7/dist-packages (from rasa) (0.12.0)\n",
            "Collecting coloredlogs<16,>=10\n",
            "  Downloading coloredlogs-15.0.1-py2.py3-none-any.whl (46 kB)\n",
            "\u001b[K     |████████████████████████████████| 46 kB 3.0 MB/s \n",
            "\u001b[?25hRequirement already satisfied: setuptools>=41.0.0 in /usr/local/lib/python3.7/dist-packages (from rasa) (57.4.0)\n",
            "Collecting async_generator<1.11,>=1.10\n",
            "  Downloading async_generator-1.10-py3-none-any.whl (18 kB)\n",
            "Collecting sklearn-crfsuite<0.4,>=0.3\n",
            "  Downloading sklearn_crfsuite-0.3.6-py2.py3-none-any.whl (12 kB)\n",
            "Requirement already satisfied: tqdm<5.0,>=4.31 in /usr/local/lib/python3.7/dist-packages (from rasa) (4.62.3)\n",
            "Collecting aiohttp!=3.7.4.post0,<3.8,>=3.6\n",
            "  Downloading aiohttp-3.7.4-cp37-cp37m-manylinux2014_x86_64.whl (1.3 MB)\n",
            "\u001b[K     |████████████████████████████████| 1.3 MB 41.0 MB/s \n",
            "\u001b[?25hRequirement already satisfied: SQLAlchemy<1.5.0,>=1.3.3 in /usr/local/lib/python3.7/dist-packages (from rasa) (1.3.24)\n",
            "Requirement already satisfied: numpy<1.20.0,>=1.19.2 in /usr/local/lib/python3.7/dist-packages (from rasa) (1.19.5)\n",
            "Collecting prompt-toolkit<3.0,>=2.0\n",
            "  Downloading prompt_toolkit-2.0.10-py3-none-any.whl (340 kB)\n",
            "\u001b[K     |████████████████████████████████| 340 kB 59.6 MB/s \n",
            "\u001b[?25hCollecting psycopg2-binary<2.10.0,>=2.8.2\n",
            "  Downloading psycopg2_binary-2.9.1-cp37-cp37m-manylinux_2_17_x86_64.manylinux2014_x86_64.whl (3.4 MB)\n",
            "\u001b[K     |████████████████████████████████| 3.4 MB 14.8 MB/s \n",
            "\u001b[?25hCollecting rasa-sdk<3.0.0,>=2.8.1\n",
            "  Downloading rasa_sdk-2.8.2-py3-none-any.whl (43 kB)\n",
            "\u001b[K     |████████████████████████████████| 43 kB 1.5 MB/s \n",
            "\u001b[?25hRequirement already satisfied: absl-py<0.14,>=0.9 in /usr/local/lib/python3.7/dist-packages (from rasa) (0.12.0)\n",
            "Collecting tensorflow-probability<0.14,>=0.11\n",
            "  Downloading tensorflow_probability-0.13.0-py2.py3-none-any.whl (5.4 MB)\n",
            "\u001b[K     |████████████████████████████████| 5.4 MB 35.7 MB/s \n",
            "\u001b[?25hCollecting twilio<6.51,>=6.26\n",
            "  Downloading twilio-6.50.1.tar.gz (457 kB)\n",
            "\u001b[K     |████████████████████████████████| 457 kB 30.1 MB/s \n",
            "\u001b[?25hCollecting jsonschema<3.3,>=3.2\n",
            "  Downloading jsonschema-3.2.0-py2.py3-none-any.whl (56 kB)\n",
            "\u001b[K     |████████████████████████████████| 56 kB 3.6 MB/s \n",
            "\u001b[?25hCollecting jsonpickle<2.1,>=1.3\n",
            "  Downloading jsonpickle-2.0.0-py2.py3-none-any.whl (37 kB)\n",
            "Requirement already satisfied: attrs<21.3,>=19.3 in /usr/local/lib/python3.7/dist-packages (from rasa) (21.2.0)\n",
            "Collecting sanic-cors<0.11.0,>=0.10.0b1\n",
            "  Downloading Sanic_Cors-0.10.0.post3-py2.py3-none-any.whl (17 kB)\n",
            "Collecting pytz<2022.0,>=2019.1\n",
            "  Downloading pytz-2021.3-py2.py3-none-any.whl (503 kB)\n",
            "\u001b[K     |████████████████████████████████| 503 kB 46.2 MB/s \n",
            "\u001b[?25hCollecting sentry-sdk<1.3.0,>=0.17.0\n",
            "  Downloading sentry_sdk-1.2.0-py2.py3-none-any.whl (133 kB)\n",
            "\u001b[K     |████████████████████████████████| 133 kB 58.1 MB/s \n",
            "\u001b[?25hCollecting sanic-jwt<1.7.0,>=1.6.0\n",
            "  Downloading sanic-jwt-1.6.0.tar.gz (19 kB)\n",
            "Requirement already satisfied: joblib<1.1.0,>=0.15.1 in /usr/local/lib/python3.7/dist-packages (from rasa) (1.0.1)\n",
            "Collecting python-socketio<6,>=4.4\n",
            "  Downloading python_socketio-5.4.1-py3-none-any.whl (55 kB)\n",
            "\u001b[K     |████████████████████████████████| 55 kB 2.5 MB/s \n",
            "\u001b[?25hCollecting colorclass<2.3,>=2.2\n",
            "  Downloading colorclass-2.2.0.tar.gz (17 kB)\n",
            "Collecting boto3<2.0,>=1.12\n",
            "  Downloading boto3-1.19.0-py3-none-any.whl (131 kB)\n",
            "\u001b[K     |████████████████████████████████| 131 kB 51.8 MB/s \n",
            "\u001b[?25hRequirement already satisfied: requests<3.0,>=2.23 in /usr/local/lib/python3.7/dist-packages (from rasa) (2.23.0)\n",
            "Collecting slackclient<3.0.0,>=2.0.0\n",
            "  Downloading slackclient-2.9.3-py2.py3-none-any.whl (96 kB)\n",
            "\u001b[K     |████████████████████████████████| 96 kB 5.3 MB/s \n",
            "\u001b[?25hCollecting ujson<5.0,>=1.35\n",
            "  Downloading ujson-4.2.0-cp37-cp37m-manylinux_2_17_x86_64.manylinux2014_x86_64.whl (214 kB)\n",
            "\u001b[K     |████████████████████████████████| 214 kB 57.3 MB/s \n",
            "\u001b[?25hCollecting webexteamssdk<1.7.0,>=1.1.1\n",
            "  Downloading webexteamssdk-1.6-py3-none-any.whl (113 kB)\n",
            "\u001b[K     |████████████████████████████████| 113 kB 49.6 MB/s \n",
            "\u001b[?25hCollecting PyJWT[crypto]<3.0.0,>=2.0.0\n",
            "  Downloading PyJWT-2.3.0-py3-none-any.whl (16 kB)\n",
            "Collecting ruamel.yaml<0.17.0,>=0.16.5\n",
            "  Downloading ruamel.yaml-0.16.13-py2.py3-none-any.whl (111 kB)\n",
            "\u001b[K     |████████████████████████████████| 111 kB 51.3 MB/s \n",
            "\u001b[?25hRequirement already satisfied: pyasn1-modules>=0.0.5 in /usr/local/lib/python3.7/dist-packages (from oauth2client==4.1.3->rasa) (0.2.8)\n",
            "Requirement already satisfied: pyasn1>=0.1.7 in /usr/local/lib/python3.7/dist-packages (from oauth2client==4.1.3->rasa) (0.4.8)\n",
            "Requirement already satisfied: httplib2>=0.9.1 in /usr/local/lib/python3.7/dist-packages (from oauth2client==4.1.3->rasa) (0.17.4)\n",
            "Requirement already satisfied: rsa>=3.1.4 in /usr/local/lib/python3.7/dist-packages (from oauth2client==4.1.3->rasa) (4.7.2)\n",
            "Requirement already satisfied: six>=1.6.1 in /usr/local/lib/python3.7/dist-packages (from oauth2client==4.1.3->rasa) (1.15.0)\n",
            "Collecting aiormq<4,>=3.2.3\n",
            "  Downloading aiormq-3.3.1-py3-none-any.whl (28 kB)\n",
            "Collecting yarl\n",
            "  Downloading yarl-1.7.0-cp37-cp37m-manylinux_2_5_x86_64.manylinux1_x86_64.manylinux_2_12_x86_64.manylinux2010_x86_64.whl (271 kB)\n",
            "\u001b[K     |████████████████████████████████| 271 kB 38.2 MB/s \n",
            "\u001b[?25hRequirement already satisfied: chardet<4.0,>=2.0 in /usr/local/lib/python3.7/dist-packages (from aiohttp!=3.7.4.post0,<3.8,>=3.6->rasa) (3.0.4)\n",
            "Collecting multidict<7.0,>=4.5\n",
            "  Downloading multidict-5.2.0-cp37-cp37m-manylinux_2_5_x86_64.manylinux1_x86_64.manylinux_2_12_x86_64.manylinux2010_x86_64.whl (160 kB)\n",
            "\u001b[K     |████████████████████████████████| 160 kB 49.8 MB/s \n",
            "\u001b[?25hCollecting async-timeout<4.0,>=3.0\n",
            "  Downloading async_timeout-3.0.1-py3-none-any.whl (8.2 kB)\n",
            "Requirement already satisfied: typing-extensions>=3.6.5 in /usr/local/lib/python3.7/dist-packages (from aiohttp!=3.7.4.post0,<3.8,>=3.6->rasa) (3.7.4.3)\n",
            "Collecting pamqp==2.3.0\n",
            "  Downloading pamqp-2.3.0-py2.py3-none-any.whl (28 kB)\n",
            "Collecting tzlocal~=2.0\n",
            "  Downloading tzlocal-2.1-py2.py3-none-any.whl (16 kB)\n",
            "Collecting botocore<1.23.0,>=1.22.0\n",
            "  Downloading botocore-1.22.0-py3-none-any.whl (8.0 MB)\n",
            "\u001b[K     |████████████████████████████████| 8.0 MB 29.8 MB/s \n",
            "\u001b[?25hCollecting jmespath<1.0.0,>=0.7.1\n",
            "  Downloading jmespath-0.10.0-py2.py3-none-any.whl (24 kB)\n",
            "Collecting s3transfer<0.6.0,>=0.5.0\n",
            "  Downloading s3transfer-0.5.0-py3-none-any.whl (79 kB)\n",
            "\u001b[K     |████████████████████████████████| 79 kB 5.8 MB/s \n",
            "\u001b[?25hCollecting urllib3<1.27,>=1.25.4\n",
            "  Downloading urllib3-1.26.7-py2.py3-none-any.whl (138 kB)\n",
            "\u001b[K     |████████████████████████████████| 138 kB 47.9 MB/s \n",
            "\u001b[?25hCollecting humanfriendly>=9.1\n",
            "  Downloading humanfriendly-10.0-py2.py3-none-any.whl (86 kB)\n",
            "\u001b[K     |████████████████████████████████| 86 kB 3.7 MB/s \n",
            "\u001b[?25hRequirement already satisfied: importlib-metadata in /usr/local/lib/python3.7/dist-packages (from jsonpickle<2.1,>=1.3->rasa) (4.8.1)\n",
            "Requirement already satisfied: pyrsistent>=0.14.0 in /usr/local/lib/python3.7/dist-packages (from jsonschema<3.3,>=3.2->rasa) (0.18.0)\n",
            "Requirement already satisfied: pyparsing!=2.0.4,!=2.1.2,!=2.1.6,>=2.0.1 in /usr/local/lib/python3.7/dist-packages (from matplotlib<3.4,>=3.1->rasa) (2.4.7)\n",
            "Requirement already satisfied: kiwisolver>=1.0.1 in /usr/local/lib/python3.7/dist-packages (from matplotlib<3.4,>=3.1->rasa) (1.3.2)\n",
            "Requirement already satisfied: cycler>=0.10 in /usr/local/lib/python3.7/dist-packages (from matplotlib<3.4,>=3.1->rasa) (0.10.0)\n",
            "Requirement already satisfied: decorator<5,>=4.3 in /usr/local/lib/python3.7/dist-packages (from networkx<2.6,>=2.4->rasa) (4.4.2)\n",
            "Requirement already satisfied: wcwidth in /usr/local/lib/python3.7/dist-packages (from prompt-toolkit<3.0,>=2.0->rasa) (0.2.5)\n",
            "Collecting cryptography>=3.3.1\n",
            "  Downloading cryptography-35.0.0-cp36-abi3-manylinux_2_24_x86_64.whl (3.5 MB)\n",
            "\u001b[K     |████████████████████████████████| 3.5 MB 34.5 MB/s \n",
            "\u001b[?25hRequirement already satisfied: cffi>=1.12 in /usr/local/lib/python3.7/dist-packages (from cryptography>=3.3.1->PyJWT[crypto]<3.0.0,>=2.0.0->rasa) (1.14.6)\n",
            "Requirement already satisfied: pycparser in /usr/local/lib/python3.7/dist-packages (from cffi>=1.12->cryptography>=3.3.1->PyJWT[crypto]<3.0.0,>=2.0.0->rasa) (2.20)\n",
            "Requirement already satisfied: docopt>=0.6.2 in /usr/local/lib/python3.7/dist-packages (from pykwalify<1.9,>=1.7->rasa) (0.6.2)\n",
            "Collecting dnspython<2.0.0,>=1.16.0\n",
            "  Downloading dnspython-1.16.0-py2.py3-none-any.whl (188 kB)\n",
            "\u001b[K     |████████████████████████████████| 188 kB 59.6 MB/s \n",
            "\u001b[?25hCollecting bidict>=0.21.0\n",
            "  Downloading bidict-0.21.3-py3-none-any.whl (36 kB)\n",
            "Collecting uvloop<0.15.0\n",
            "  Downloading uvloop-0.14.0-cp37-cp37m-manylinux2010_x86_64.whl (3.8 MB)\n",
            "\u001b[K     |████████████████████████████████| 3.8 MB 40.6 MB/s \n",
            "\u001b[?25hRequirement already satisfied: certifi>=2017.4.17 in /usr/local/lib/python3.7/dist-packages (from requests<3.0,>=2.23->rasa) (2021.5.30)\n",
            "Collecting requests<3.0,>=2.23\n",
            "  Downloading requests-2.25.1-py2.py3-none-any.whl (61 kB)\n",
            "\u001b[K     |████████████████████████████████| 61 kB 6.0 MB/s \n",
            "\u001b[?25hRequirement already satisfied: idna<3,>=2.5 in /usr/local/lib/python3.7/dist-packages (from requests<3.0,>=2.23->rasa) (2.10)\n",
            "Collecting ruamel.yaml.clib>=0.1.2\n",
            "  Downloading ruamel.yaml.clib-0.2.6-cp37-cp37m-manylinux1_x86_64.whl (546 kB)\n",
            "\u001b[K     |████████████████████████████████| 546 kB 34.1 MB/s \n",
            "\u001b[?25hCollecting httptools>=0.0.10\n",
            "  Downloading httptools-0.3.0-cp37-cp37m-manylinux_2_5_x86_64.manylinux1_x86_64.manylinux_2_12_x86_64.manylinux2010_x86_64.whl (402 kB)\n",
            "\u001b[K     |████████████████████████████████| 402 kB 38.2 MB/s \n",
            "\u001b[?25hCollecting httpx==0.15.4\n",
            "  Downloading httpx-0.15.4-py3-none-any.whl (65 kB)\n",
            "\u001b[K     |████████████████████████████████| 65 kB 2.3 MB/s \n",
            "\u001b[?25hCollecting multidict<7.0,>=4.5\n",
            "  Downloading multidict-5.0.0-cp37-cp37m-manylinux2014_x86_64.whl (142 kB)\n",
            "\u001b[K     |████████████████████████████████| 142 kB 39.1 MB/s \n",
            "\u001b[?25hCollecting websockets<9.0,>=8.1\n",
            "  Downloading websockets-8.1-cp37-cp37m-manylinux2010_x86_64.whl (79 kB)\n",
            "\u001b[K     |████████████████████████████████| 79 kB 5.0 MB/s \n",
            "\u001b[?25hCollecting aiofiles>=0.3.0\n",
            "  Downloading aiofiles-0.7.0-py3-none-any.whl (13 kB)\n",
            "Collecting rfc3986[idna2008]<2,>=1.3\n",
            "  Downloading rfc3986-1.5.0-py2.py3-none-any.whl (31 kB)\n",
            "Collecting sniffio\n",
            "  Downloading sniffio-1.2.0-py3-none-any.whl (10 kB)\n",
            "Collecting httpcore==0.11.*\n",
            "  Downloading httpcore-0.11.1-py3-none-any.whl (52 kB)\n",
            "\u001b[K     |████████████████████████████████| 52 kB 728 kB/s \n",
            "\u001b[?25hCollecting h11<0.10,>=0.8\n",
            "  Downloading h11-0.9.0-py2.py3-none-any.whl (53 kB)\n",
            "\u001b[K     |████████████████████████████████| 53 kB 1.3 MB/s \n",
            "\u001b[?25hCollecting sanic-plugins-framework>=0.9.0\n",
            "  Downloading Sanic_Plugins_Framework-0.9.5-py2.py3-none-any.whl (23 kB)\n",
            "INFO: pip is looking at multiple versions of sanic-cors to determine which version is compatible with other requirements. This could take a while.\n",
            "Collecting sanic-cors<0.11.0,>=0.10.0b1\n",
            "  Downloading Sanic_Cors-0.10.0.post2-py2.py3-none-any.whl (17 kB)\n",
            "  Downloading Sanic_Cors-0.10.0.post1-py2.py3-none-any.whl (17 kB)\n",
            "  Downloading Sanic_Cors-0.10.0-py2.py3-none-any.whl (16 kB)\n",
            "INFO: pip is looking at multiple versions of rfc3986 to determine which version is compatible with other requirements. This could take a while.\n",
            "INFO: pip is looking at multiple versions of rfc3986[idna2008] to determine which version is compatible with other requirements. This could take a while.\n",
            "Collecting rfc3986[idna2008]<2,>=1.3\n",
            "  Downloading rfc3986-1.4.0-py2.py3-none-any.whl (31 kB)\n",
            "INFO: pip is looking at multiple versions of sanic-cors to determine which version is compatible with other requirements. This could take a while.\n",
            "  Downloading rfc3986-1.3.2-py2.py3-none-any.whl (31 kB)\n",
            "  Downloading rfc3986-1.3.1-py2.py3-none-any.whl (31 kB)\n",
            "INFO: This is taking longer than usual. You might need to provide the dependency resolver with stricter constraints to reduce runtime. If you want to abort this run, you can press Ctrl + C to do so. To improve how pip performs, tell us what happened here: https://pip.pypa.io/surveys/backtracking\n",
            "  Downloading rfc3986-1.3.0-py2.py3-none-any.whl (31 kB)\n",
            "INFO: pip is looking at multiple versions of httptools to determine which version is compatible with other requirements. This could take a while.\n",
            "Collecting httptools>=0.0.10\n",
            "  Downloading httptools-0.2.0-cp37-cp37m-manylinux1_x86_64.whl (344 kB)\n",
            "\u001b[K     |████████████████████████████████| 344 kB 28.7 MB/s \n",
            "\u001b[?25hINFO: pip is looking at multiple versions of rfc3986 to determine which version is compatible with other requirements. This could take a while.\n",
            "INFO: pip is looking at multiple versions of rfc3986[idna2008] to determine which version is compatible with other requirements. This could take a while.\n",
            "  Downloading httptools-0.1.2-cp37-cp37m-manylinux1_x86_64.whl (219 kB)\n",
            "\u001b[K     |████████████████████████████████| 219 kB 37.7 MB/s \n",
            "\u001b[?25hINFO: This is taking longer than usual. You might need to provide the dependency resolver with stricter constraints to reduce runtime. If you want to abort this run, you can press Ctrl + C to do so. To improve how pip performs, tell us what happened here: https://pip.pypa.io/surveys/backtracking\n",
            "INFO: This is taking longer than usual. You might need to provide the dependency resolver with stricter constraints to reduce runtime. If you want to abort this run, you can press Ctrl + C to do so. To improve how pip performs, tell us what happened here: https://pip.pypa.io/surveys/backtracking\n",
            "  Downloading httptools-0.1.1-cp37-cp37m-manylinux1_x86_64.whl (217 kB)\n",
            "\u001b[K     |████████████████████████████████| 217 kB 54.4 MB/s \n",
            "\u001b[?25h  Downloading httptools-0.1.0-cp37-cp37m-manylinux1_x86_64.whl (217 kB)\n",
            "\u001b[K     |████████████████████████████████| 217 kB 49.6 MB/s \n",
            "\u001b[?25h  Downloading httptools-0.0.13.tar.gz (104 kB)\n",
            "\u001b[K     |████████████████████████████████| 104 kB 30.9 MB/s \n",
            "\u001b[?25h  Downloading httptools-0.0.12.tar.gz (103 kB)\n",
            "\u001b[K     |████████████████████████████████| 103 kB 39.9 MB/s \n",
            "\u001b[?25h  Downloading httptools-0.0.11.tar.gz (99 kB)\n",
            "\u001b[K     |████████████████████████████████| 99 kB 5.0 MB/s \n",
            "\u001b[?25hINFO: pip is looking at multiple versions of httptools to determine which version is compatible with other requirements. This could take a while.\n",
            "  Downloading httptools-0.0.10.tar.gz (98 kB)\n",
            "\u001b[K     |████████████████████████████████| 98 kB 4.4 MB/s \n",
            "\u001b[?25hINFO: pip is looking at multiple versions of h11 to determine which version is compatible with other requirements. This could take a while.\n",
            "Collecting h11<0.10,>=0.8\n",
            "  Downloading h11-0.8.1-py2.py3-none-any.whl (55 kB)\n",
            "\u001b[K     |████████████████████████████████| 55 kB 2.0 MB/s \n",
            "\u001b[?25hINFO: This is taking longer than usual. You might need to provide the dependency resolver with stricter constraints to reduce runtime. If you want to abort this run, you can press Ctrl + C to do so. To improve how pip performs, tell us what happened here: https://pip.pypa.io/surveys/backtracking\n",
            "  Downloading h11-0.8.0-py2.py3-none-any.whl (55 kB)\n",
            "\u001b[K     |████████████████████████████████| 55 kB 2.7 MB/s \n",
            "\u001b[?25hINFO: pip is looking at multiple versions of aiofiles to determine which version is compatible with other requirements. This could take a while.\n",
            "Collecting aiofiles>=0.3.0\n",
            "  Downloading aiofiles-0.6.0-py3-none-any.whl (11 kB)\n",
            "  Downloading aiofiles-0.5.0-py3-none-any.whl (11 kB)\n",
            "INFO: pip is looking at multiple versions of h11 to determine which version is compatible with other requirements. This could take a while.\n",
            "  Downloading aiofiles-0.4.0-py3-none-any.whl (9.2 kB)\n",
            "  Downloading aiofiles-0.3.2-py3-none-any.whl (9.9 kB)\n",
            "INFO: This is taking longer than usual. You might need to provide the dependency resolver with stricter constraints to reduce runtime. If you want to abort this run, you can press Ctrl + C to do so. To improve how pip performs, tell us what happened here: https://pip.pypa.io/surveys/backtracking\n",
            "  Downloading aiofiles-0.3.1-py3-none-any.whl (9.2 kB)\n",
            "  Downloading aiofiles-0.3.0-py3-none-any.whl (9.2 kB)\n",
            "INFO: pip is looking at multiple versions of sniffio to determine which version is compatible with other requirements. This could take a while.\n",
            "Collecting sniffio\n",
            "  Downloading sniffio-1.1.0-py3-none-any.whl (4.5 kB)\n",
            "INFO: pip is looking at multiple versions of aiofiles to determine which version is compatible with other requirements. This could take a while.\n",
            "INFO: This is taking longer than usual. You might need to provide the dependency resolver with stricter constraints to reduce runtime. If you want to abort this run, you can press Ctrl + C to do so. To improve how pip performs, tell us what happened here: https://pip.pypa.io/surveys/backtracking\n",
            "  Downloading sniffio-1.0.0-py3-none-any.whl (4.4 kB)\n",
            "INFO: pip is looking at multiple versions of multidict to determine which version is compatible with other requirements. This could take a while.\n",
            "INFO: pip is looking at multiple versions of httpcore to determine which version is compatible with other requirements. This could take a while.\n",
            "Collecting httpcore==0.11.*\n",
            "  Downloading httpcore-0.11.0-py3-none-any.whl (52 kB)\n",
            "\u001b[K     |████████████████████████████████| 52 kB 912 kB/s \n",
            "\u001b[?25hINFO: pip is looking at multiple versions of httpx to determine which version is compatible with other requirements. This could take a while.\n",
            "INFO: pip is looking at multiple versions of sanic to determine which version is compatible with other requirements. This could take a while.\n",
            "Collecting sanic<20.12.0,>=19.12.2\n",
            "  Downloading sanic-20.9.0-py3-none-any.whl (79 kB)\n",
            "\u001b[K     |████████████████████████████████| 79 kB 6.1 MB/s \n",
            "\u001b[?25hCollecting multidict<7.0,>=4.5\n",
            "  Downloading multidict-4.7.6-cp37-cp37m-manylinux1_x86_64.whl (149 kB)\n",
            "\u001b[K     |████████████████████████████████| 149 kB 66.9 MB/s \n",
            "\u001b[?25h  Downloading multidict-4.7.5-cp37-cp37m-manylinux1_x86_64.whl (149 kB)\n",
            "\u001b[K     |████████████████████████████████| 149 kB 61.6 MB/s \n",
            "\u001b[?25h  Downloading multidict-4.7.4-cp37-cp37m-manylinux1_x86_64.whl (149 kB)\n",
            "\u001b[K     |████████████████████████████████| 149 kB 64.0 MB/s \n",
            "\u001b[?25h  Downloading multidict-4.7.3-cp37-cp37m-manylinux1_x86_64.whl (149 kB)\n",
            "\u001b[K     |████████████████████████████████| 149 kB 69.4 MB/s \n",
            "\u001b[?25h  Downloading multidict-4.7.2-cp37-cp37m-manylinux1_x86_64.whl (148 kB)\n",
            "\u001b[K     |████████████████████████████████| 148 kB 60.4 MB/s \n",
            "\u001b[?25h  Downloading multidict-4.7.1-cp37-cp37m-manylinux1_x86_64.whl (115 kB)\n",
            "\u001b[K     |████████████████████████████████| 115 kB 69.4 MB/s \n",
            "\u001b[?25hINFO: pip is looking at multiple versions of multidict to determine which version is compatible with other requirements. This could take a while.\n",
            "  Downloading multidict-4.7.0-cp37-cp37m-manylinux1_x86_64.whl (113 kB)\n",
            "\u001b[K     |████████████████████████████████| 113 kB 63.5 MB/s \n",
            "\u001b[?25h  Downloading multidict-4.6.1-cp37-cp37m-manylinux1_x86_64.whl (346 kB)\n",
            "\u001b[K     |████████████████████████████████| 346 kB 64.8 MB/s \n",
            "\u001b[?25h  Downloading multidict-4.6.0-cp37-cp37m-manylinux1_x86_64.whl (346 kB)\n",
            "\u001b[K     |████████████████████████████████| 346 kB 54.2 MB/s \n",
            "\u001b[?25h  Downloading multidict-4.5.2-cp37-cp37m-manylinux1_x86_64.whl (309 kB)\n",
            "\u001b[K     |████████████████████████████████| 309 kB 32.6 MB/s \n",
            "\u001b[?25h  Downloading multidict-4.5.1-cp37-cp37m-manylinux1_x86_64.whl (309 kB)\n",
            "\u001b[K     |████████████████████████████████| 309 kB 28.2 MB/s \n",
            "\u001b[?25hINFO: This is taking longer than usual. You might need to provide the dependency resolver with stricter constraints to reduce runtime. If you want to abort this run, you can press Ctrl + C to do so. To improve how pip performs, tell us what happened here: https://pip.pypa.io/surveys/backtracking\n",
            "  Downloading multidict-4.5.0-cp37-cp37m-manylinux1_x86_64.whl (308 kB)\n",
            "\u001b[K     |████████████████████████████████| 308 kB 41.7 MB/s \n",
            "\u001b[31mERROR: Operation cancelled by user\u001b[0m\n",
            "^C\n"
          ]
        }
      ]
    },
    {
      "cell_type": "code",
      "metadata": {
        "colab": {
          "base_uri": "https://localhost:8080/"
        },
        "id": "nl_QJWFqL1bw",
        "outputId": "9d267e85-46d7-45a9-bdde-a44b8e379566"
      },
      "source": [
        "pip install -U chatterbot_corpus"
      ],
      "execution_count": null,
      "outputs": [
        {
          "output_type": "stream",
          "name": "stdout",
          "text": [
            "Requirement already satisfied: chatterbot_corpus in /usr/local/lib/python3.7/dist-packages (1.2.0)\n",
            "Requirement already satisfied: PyYAML<4.0,>=3.12 in /usr/local/lib/python3.7/dist-packages (from chatterbot_corpus) (3.13)\n"
          ]
        }
      ]
    },
    {
      "cell_type": "code",
      "metadata": {
        "colab": {
          "base_uri": "https://localhost:8080/"
        },
        "id": "r7SdAHgqL1lN",
        "outputId": "46a68ef9-911d-433d-8d51-a521aba2bb3e"
      },
      "source": [
        "!pip install -U chatterbot"
      ],
      "execution_count": null,
      "outputs": [
        {
          "output_type": "stream",
          "name": "stdout",
          "text": [
            "Requirement already satisfied: chatterbot in /usr/local/lib/python3.7/dist-packages (1.0.8)\n",
            "Requirement already satisfied: mathparse<0.2,>=0.1 in /usr/local/lib/python3.7/dist-packages (from chatterbot) (0.1.2)\n",
            "Requirement already satisfied: pytz in /usr/local/lib/python3.7/dist-packages (from chatterbot) (2018.9)\n",
            "Requirement already satisfied: sqlalchemy<1.4,>=1.3 in /usr/local/lib/python3.7/dist-packages (from chatterbot) (1.3.24)\n",
            "Requirement already satisfied: python-dateutil<2.9,>=2.8 in /usr/local/lib/python3.7/dist-packages (from chatterbot) (2.8.2)\n",
            "Requirement already satisfied: six>=1.5 in /usr/local/lib/python3.7/dist-packages (from python-dateutil<2.9,>=2.8->chatterbot) (1.15.0)\n"
          ]
        }
      ]
    },
    {
      "cell_type": "code",
      "metadata": {
        "colab": {
          "base_uri": "https://localhost:8080/"
        },
        "id": "jGuMfcvfL1s3",
        "outputId": "c54c34a2-c676-49e3-ae32-dc7491c512c7"
      },
      "source": [
        "!pip install twilio"
      ],
      "execution_count": null,
      "outputs": [
        {
          "name": "stdout",
          "output_type": "stream",
          "text": [
            "Collecting twilio\n",
            "  Downloading twilio-7.2.0.tar.gz (501 kB)\n",
            "\u001b[?25l\r\u001b[K     |▋                               | 10 kB 22.1 MB/s eta 0:00:01\r\u001b[K     |█▎                              | 20 kB 27.9 MB/s eta 0:00:01\r\u001b[K     |██                              | 30 kB 12.8 MB/s eta 0:00:01\r\u001b[K     |██▋                             | 40 kB 9.6 MB/s eta 0:00:01\r\u001b[K     |███▎                            | 51 kB 5.4 MB/s eta 0:00:01\r\u001b[K     |████                            | 61 kB 6.0 MB/s eta 0:00:01\r\u001b[K     |████▋                           | 71 kB 5.8 MB/s eta 0:00:01\r\u001b[K     |█████▎                          | 81 kB 6.5 MB/s eta 0:00:01\r\u001b[K     |█████▉                          | 92 kB 6.3 MB/s eta 0:00:01\r\u001b[K     |██████▌                         | 102 kB 5.2 MB/s eta 0:00:01\r\u001b[K     |███████▏                        | 112 kB 5.2 MB/s eta 0:00:01\r\u001b[K     |███████▉                        | 122 kB 5.2 MB/s eta 0:00:01\r\u001b[K     |████████▌                       | 133 kB 5.2 MB/s eta 0:00:01\r\u001b[K     |█████████▏                      | 143 kB 5.2 MB/s eta 0:00:01\r\u001b[K     |█████████▉                      | 153 kB 5.2 MB/s eta 0:00:01\r\u001b[K     |██████████▌                     | 163 kB 5.2 MB/s eta 0:00:01\r\u001b[K     |███████████▏                    | 174 kB 5.2 MB/s eta 0:00:01\r\u001b[K     |███████████▊                    | 184 kB 5.2 MB/s eta 0:00:01\r\u001b[K     |████████████▍                   | 194 kB 5.2 MB/s eta 0:00:01\r\u001b[K     |█████████████                   | 204 kB 5.2 MB/s eta 0:00:01\r\u001b[K     |█████████████▊                  | 215 kB 5.2 MB/s eta 0:00:01\r\u001b[K     |██████████████▍                 | 225 kB 5.2 MB/s eta 0:00:01\r\u001b[K     |███████████████                 | 235 kB 5.2 MB/s eta 0:00:01\r\u001b[K     |███████████████▊                | 245 kB 5.2 MB/s eta 0:00:01\r\u001b[K     |████████████████▍               | 256 kB 5.2 MB/s eta 0:00:01\r\u001b[K     |█████████████████               | 266 kB 5.2 MB/s eta 0:00:01\r\u001b[K     |█████████████████▋              | 276 kB 5.2 MB/s eta 0:00:01\r\u001b[K     |██████████████████▎             | 286 kB 5.2 MB/s eta 0:00:01\r\u001b[K     |███████████████████             | 296 kB 5.2 MB/s eta 0:00:01\r\u001b[K     |███████████████████▋            | 307 kB 5.2 MB/s eta 0:00:01\r\u001b[K     |████████████████████▎           | 317 kB 5.2 MB/s eta 0:00:01\r\u001b[K     |█████████████████████           | 327 kB 5.2 MB/s eta 0:00:01\r\u001b[K     |█████████████████████▋          | 337 kB 5.2 MB/s eta 0:00:01\r\u001b[K     |██████████████████████▎         | 348 kB 5.2 MB/s eta 0:00:01\r\u001b[K     |███████████████████████         | 358 kB 5.2 MB/s eta 0:00:01\r\u001b[K     |███████████████████████▌        | 368 kB 5.2 MB/s eta 0:00:01\r\u001b[K     |████████████████████████▏       | 378 kB 5.2 MB/s eta 0:00:01\r\u001b[K     |████████████████████████▉       | 389 kB 5.2 MB/s eta 0:00:01\r\u001b[K     |█████████████████████████▌      | 399 kB 5.2 MB/s eta 0:00:01\r\u001b[K     |██████████████████████████▏     | 409 kB 5.2 MB/s eta 0:00:01\r\u001b[K     |██████████████████████████▉     | 419 kB 5.2 MB/s eta 0:00:01\r\u001b[K     |███████████████████████████▌    | 430 kB 5.2 MB/s eta 0:00:01\r\u001b[K     |████████████████████████████▏   | 440 kB 5.2 MB/s eta 0:00:01\r\u001b[K     |████████████████████████████▊   | 450 kB 5.2 MB/s eta 0:00:01\r\u001b[K     |█████████████████████████████▍  | 460 kB 5.2 MB/s eta 0:00:01\r\u001b[K     |██████████████████████████████  | 471 kB 5.2 MB/s eta 0:00:01\r\u001b[K     |██████████████████████████████▊ | 481 kB 5.2 MB/s eta 0:00:01\r\u001b[K     |███████████████████████████████▍| 491 kB 5.2 MB/s eta 0:00:01\r\u001b[K     |████████████████████████████████| 501 kB 5.2 MB/s \n",
            "\u001b[?25hRequirement already satisfied: pytz in /usr/local/lib/python3.7/dist-packages (from twilio) (2018.9)\n",
            "Requirement already satisfied: requests>=2.0.0 in /usr/local/lib/python3.7/dist-packages (from twilio) (2.23.0)\n",
            "Collecting PyJWT<3.0.0,>=2.0.0\n",
            "  Using cached PyJWT-2.3.0-py3-none-any.whl (16 kB)\n",
            "Requirement already satisfied: urllib3!=1.25.0,!=1.25.1,<1.26,>=1.21.1 in /usr/local/lib/python3.7/dist-packages (from requests>=2.0.0->twilio) (1.24.3)\n",
            "Requirement already satisfied: certifi>=2017.4.17 in /usr/local/lib/python3.7/dist-packages (from requests>=2.0.0->twilio) (2021.5.30)\n",
            "Requirement already satisfied: idna<3,>=2.5 in /usr/local/lib/python3.7/dist-packages (from requests>=2.0.0->twilio) (2.10)\n",
            "Requirement already satisfied: chardet<4,>=3.0.2 in /usr/local/lib/python3.7/dist-packages (from requests>=2.0.0->twilio) (3.0.4)\n",
            "Building wheels for collected packages: twilio\n",
            "  Building wheel for twilio (setup.py) ... \u001b[?25l\u001b[?25hdone\n",
            "  Created wheel for twilio: filename=twilio-7.2.0-py2.py3-none-any.whl size=1318257 sha256=b9f729526af08ca867c6cf7ccac429b967f50f3d27d71d57a28c9b11d0d3b2b1\n",
            "  Stored in directory: /root/.cache/pip/wheels/ff/e4/f9/7baf3590543522756066187b5f38d8d268b1699e879e9136f7\n",
            "Successfully built twilio\n",
            "Installing collected packages: PyJWT, twilio\n",
            "Successfully installed PyJWT-2.3.0 twilio-7.2.0\n"
          ]
        }
      ]
    },
    {
      "cell_type": "code",
      "metadata": {
        "colab": {
          "base_uri": "https://localhost:8080/"
        },
        "id": "oAxYa78lOvqN",
        "outputId": "055f36a3-e1ee-4599-c2b0-d75b8b67101e"
      },
      "source": [
        "pip install -U chatterbot"
      ],
      "execution_count": null,
      "outputs": [
        {
          "output_type": "stream",
          "name": "stdout",
          "text": [
            "Requirement already satisfied: chatterbot in /usr/local/lib/python3.7/dist-packages (1.0.8)\n",
            "Requirement already satisfied: pytz in /usr/local/lib/python3.7/dist-packages (from chatterbot) (2018.9)\n",
            "Requirement already satisfied: mathparse<0.2,>=0.1 in /usr/local/lib/python3.7/dist-packages (from chatterbot) (0.1.2)\n",
            "Requirement already satisfied: python-dateutil<2.9,>=2.8 in /usr/local/lib/python3.7/dist-packages (from chatterbot) (2.8.2)\n",
            "Requirement already satisfied: sqlalchemy<1.4,>=1.3 in /usr/local/lib/python3.7/dist-packages (from chatterbot) (1.3.24)\n",
            "Requirement already satisfied: six>=1.5 in /usr/local/lib/python3.7/dist-packages (from python-dateutil<2.9,>=2.8->chatterbot) (1.15.0)\n"
          ]
        }
      ]
    },
    {
      "cell_type": "code",
      "metadata": {
        "colab": {
          "base_uri": "https://localhost:8080/"
        },
        "id": "9cavKXpEO-t-",
        "outputId": "bd8ebc0e-df79-46c2-9fa3-8574da0d22f3"
      },
      "source": [
        "!pip install twilio"
      ],
      "execution_count": null,
      "outputs": [
        {
          "output_type": "stream",
          "name": "stdout",
          "text": [
            "Collecting twilio\n",
            "  Downloading twilio-7.2.0.tar.gz (501 kB)\n",
            "\u001b[?25l\r\u001b[K     |▋                               | 10 kB 17.5 MB/s eta 0:00:01\r\u001b[K     |█▎                              | 20 kB 24.4 MB/s eta 0:00:01\r\u001b[K     |██                              | 30 kB 31.0 MB/s eta 0:00:01\r\u001b[K     |██▋                             | 40 kB 33.4 MB/s eta 0:00:01\r\u001b[K     |███▎                            | 51 kB 28.6 MB/s eta 0:00:01\r\u001b[K     |████                            | 61 kB 27.2 MB/s eta 0:00:01\r\u001b[K     |████▋                           | 71 kB 22.9 MB/s eta 0:00:01\r\u001b[K     |█████▎                          | 81 kB 24.8 MB/s eta 0:00:01\r\u001b[K     |█████▉                          | 92 kB 26.9 MB/s eta 0:00:01\r\u001b[K     |██████▌                         | 102 kB 24.6 MB/s eta 0:00:01\r\u001b[K     |███████▏                        | 112 kB 24.6 MB/s eta 0:00:01\r\u001b[K     |███████▉                        | 122 kB 24.6 MB/s eta 0:00:01\r\u001b[K     |████████▌                       | 133 kB 24.6 MB/s eta 0:00:01\r\u001b[K     |█████████▏                      | 143 kB 24.6 MB/s eta 0:00:01\r\u001b[K     |█████████▉                      | 153 kB 24.6 MB/s eta 0:00:01\r\u001b[K     |██████████▌                     | 163 kB 24.6 MB/s eta 0:00:01\r\u001b[K     |███████████▏                    | 174 kB 24.6 MB/s eta 0:00:01\r\u001b[K     |███████████▊                    | 184 kB 24.6 MB/s eta 0:00:01\r\u001b[K     |████████████▍                   | 194 kB 24.6 MB/s eta 0:00:01\r\u001b[K     |█████████████                   | 204 kB 24.6 MB/s eta 0:00:01\r\u001b[K     |█████████████▊                  | 215 kB 24.6 MB/s eta 0:00:01\r\u001b[K     |██████████████▍                 | 225 kB 24.6 MB/s eta 0:00:01\r\u001b[K     |███████████████                 | 235 kB 24.6 MB/s eta 0:00:01\r\u001b[K     |███████████████▊                | 245 kB 24.6 MB/s eta 0:00:01\r\u001b[K     |████████████████▍               | 256 kB 24.6 MB/s eta 0:00:01\r\u001b[K     |█████████████████               | 266 kB 24.6 MB/s eta 0:00:01\r\u001b[K     |█████████████████▋              | 276 kB 24.6 MB/s eta 0:00:01\r\u001b[K     |██████████████████▎             | 286 kB 24.6 MB/s eta 0:00:01\r\u001b[K     |███████████████████             | 296 kB 24.6 MB/s eta 0:00:01\r\u001b[K     |███████████████████▋            | 307 kB 24.6 MB/s eta 0:00:01\r\u001b[K     |████████████████████▎           | 317 kB 24.6 MB/s eta 0:00:01\r\u001b[K     |█████████████████████           | 327 kB 24.6 MB/s eta 0:00:01\r\u001b[K     |█████████████████████▋          | 337 kB 24.6 MB/s eta 0:00:01\r\u001b[K     |██████████████████████▎         | 348 kB 24.6 MB/s eta 0:00:01\r\u001b[K     |███████████████████████         | 358 kB 24.6 MB/s eta 0:00:01\r\u001b[K     |███████████████████████▌        | 368 kB 24.6 MB/s eta 0:00:01\r\u001b[K     |████████████████████████▏       | 378 kB 24.6 MB/s eta 0:00:01\r\u001b[K     |████████████████████████▉       | 389 kB 24.6 MB/s eta 0:00:01\r\u001b[K     |█████████████████████████▌      | 399 kB 24.6 MB/s eta 0:00:01\r\u001b[K     |██████████████████████████▏     | 409 kB 24.6 MB/s eta 0:00:01\r\u001b[K     |██████████████████████████▉     | 419 kB 24.6 MB/s eta 0:00:01\r\u001b[K     |███████████████████████████▌    | 430 kB 24.6 MB/s eta 0:00:01\r\u001b[K     |████████████████████████████▏   | 440 kB 24.6 MB/s eta 0:00:01\r\u001b[K     |████████████████████████████▊   | 450 kB 24.6 MB/s eta 0:00:01\r\u001b[K     |█████████████████████████████▍  | 460 kB 24.6 MB/s eta 0:00:01\r\u001b[K     |██████████████████████████████  | 471 kB 24.6 MB/s eta 0:00:01\r\u001b[K     |██████████████████████████████▊ | 481 kB 24.6 MB/s eta 0:00:01\r\u001b[K     |███████████████████████████████▍| 491 kB 24.6 MB/s eta 0:00:01\r\u001b[K     |████████████████████████████████| 501 kB 24.6 MB/s \n",
            "\u001b[?25hRequirement already satisfied: pytz in /usr/local/lib/python3.7/dist-packages (from twilio) (2018.9)\n",
            "Requirement already satisfied: requests>=2.0.0 in /usr/local/lib/python3.7/dist-packages (from twilio) (2.23.0)\n",
            "Collecting PyJWT<3.0.0,>=2.0.0\n",
            "  Downloading PyJWT-2.3.0-py3-none-any.whl (16 kB)\n",
            "Requirement already satisfied: idna<3,>=2.5 in /usr/local/lib/python3.7/dist-packages (from requests>=2.0.0->twilio) (2.10)\n",
            "Requirement already satisfied: chardet<4,>=3.0.2 in /usr/local/lib/python3.7/dist-packages (from requests>=2.0.0->twilio) (3.0.4)\n",
            "Requirement already satisfied: urllib3!=1.25.0,!=1.25.1,<1.26,>=1.21.1 in /usr/local/lib/python3.7/dist-packages (from requests>=2.0.0->twilio) (1.24.3)\n",
            "Requirement already satisfied: certifi>=2017.4.17 in /usr/local/lib/python3.7/dist-packages (from requests>=2.0.0->twilio) (2021.5.30)\n",
            "Building wheels for collected packages: twilio\n",
            "  Building wheel for twilio (setup.py) ... \u001b[?25l\u001b[?25hdone\n",
            "  Created wheel for twilio: filename=twilio-7.2.0-py2.py3-none-any.whl size=1318257 sha256=1928f0c38bc66fb12843aff01130791d67d56febe6788a1dea3ccc1a082707d9\n",
            "  Stored in directory: /root/.cache/pip/wheels/ff/e4/f9/7baf3590543522756066187b5f38d8d268b1699e879e9136f7\n",
            "Successfully built twilio\n",
            "Installing collected packages: PyJWT, twilio\n",
            "Successfully installed PyJWT-2.3.0 twilio-7.2.0\n"
          ]
        }
      ]
    },
    {
      "cell_type": "code",
      "metadata": {
        "colab": {
          "base_uri": "https://localhost:8080/"
        },
        "id": "WPUghxfJPLh7",
        "outputId": "464695f0-4783-4810-87cf-68717cc31067"
      },
      "source": [
        "pip install chatterbot_corpus"
      ],
      "execution_count": null,
      "outputs": [
        {
          "output_type": "stream",
          "name": "stdout",
          "text": [
            "Collecting chatterbot_corpus\n",
            "  Downloading chatterbot_corpus-1.2.0-py2.py3-none-any.whl (117 kB)\n",
            "\u001b[?25l\r\u001b[K     |██▉                             | 10 kB 25.0 MB/s eta 0:00:01\r\u001b[K     |█████▋                          | 20 kB 34.4 MB/s eta 0:00:01\r\u001b[K     |████████▍                       | 30 kB 41.3 MB/s eta 0:00:01\r\u001b[K     |███████████▏                    | 40 kB 30.5 MB/s eta 0:00:01\r\u001b[K     |██████████████                  | 51 kB 18.5 MB/s eta 0:00:01\r\u001b[K     |████████████████▊               | 61 kB 15.4 MB/s eta 0:00:01\r\u001b[K     |███████████████████▋            | 71 kB 14.1 MB/s eta 0:00:01\r\u001b[K     |██████████████████████▍         | 81 kB 15.7 MB/s eta 0:00:01\r\u001b[K     |█████████████████████████▏      | 92 kB 14.5 MB/s eta 0:00:01\r\u001b[K     |████████████████████████████    | 102 kB 13.4 MB/s eta 0:00:01\r\u001b[K     |██████████████████████████████▊ | 112 kB 13.4 MB/s eta 0:00:01\r\u001b[K     |████████████████████████████████| 117 kB 13.4 MB/s \n",
            "\u001b[?25hRequirement already satisfied: PyYAML<4.0,>=3.12 in /usr/local/lib/python3.7/dist-packages (from chatterbot_corpus) (3.13)\n",
            "Installing collected packages: chatterbot-corpus\n",
            "Successfully installed chatterbot-corpus-1.2.0\n"
          ]
        }
      ]
    },
    {
      "cell_type": "code",
      "metadata": {
        "colab": {
          "base_uri": "https://localhost:8080/"
        },
        "id": "rh4PU4jGJYhw",
        "outputId": "8fff002a-a599-4d96-c70d-4416b146fd65"
      },
      "source": [
        "pip install twilio"
      ],
      "execution_count": null,
      "outputs": [
        {
          "output_type": "stream",
          "name": "stdout",
          "text": [
            "Collecting twilio\n",
            "  Downloading twilio-7.3.0-py2.py3-none-any.whl (1.3 MB)\n",
            "\u001b[?25l\r\u001b[K     |▎                               | 10 kB 28.5 MB/s eta 0:00:01\r\u001b[K     |▌                               | 20 kB 37.1 MB/s eta 0:00:01\r\u001b[K     |▊                               | 30 kB 42.1 MB/s eta 0:00:01\r\u001b[K     |█                               | 40 kB 30.7 MB/s eta 0:00:01\r\u001b[K     |█▎                              | 51 kB 17.1 MB/s eta 0:00:01\r\u001b[K     |█▌                              | 61 kB 18.8 MB/s eta 0:00:01\r\u001b[K     |█▊                              | 71 kB 13.7 MB/s eta 0:00:01\r\u001b[K     |██                              | 81 kB 15.2 MB/s eta 0:00:01\r\u001b[K     |██▎                             | 92 kB 12.9 MB/s eta 0:00:01\r\u001b[K     |██▌                             | 102 kB 13.6 MB/s eta 0:00:01\r\u001b[K     |██▊                             | 112 kB 13.6 MB/s eta 0:00:01\r\u001b[K     |███                             | 122 kB 13.6 MB/s eta 0:00:01\r\u001b[K     |███▎                            | 133 kB 13.6 MB/s eta 0:00:01\r\u001b[K     |███▌                            | 143 kB 13.6 MB/s eta 0:00:01\r\u001b[K     |███▊                            | 153 kB 13.6 MB/s eta 0:00:01\r\u001b[K     |████                            | 163 kB 13.6 MB/s eta 0:00:01\r\u001b[K     |████▎                           | 174 kB 13.6 MB/s eta 0:00:01\r\u001b[K     |████▌                           | 184 kB 13.6 MB/s eta 0:00:01\r\u001b[K     |████▊                           | 194 kB 13.6 MB/s eta 0:00:01\r\u001b[K     |█████                           | 204 kB 13.6 MB/s eta 0:00:01\r\u001b[K     |█████▏                          | 215 kB 13.6 MB/s eta 0:00:01\r\u001b[K     |█████▌                          | 225 kB 13.6 MB/s eta 0:00:01\r\u001b[K     |█████▊                          | 235 kB 13.6 MB/s eta 0:00:01\r\u001b[K     |██████                          | 245 kB 13.6 MB/s eta 0:00:01\r\u001b[K     |██████▏                         | 256 kB 13.6 MB/s eta 0:00:01\r\u001b[K     |██████▌                         | 266 kB 13.6 MB/s eta 0:00:01\r\u001b[K     |██████▊                         | 276 kB 13.6 MB/s eta 0:00:01\r\u001b[K     |███████                         | 286 kB 13.6 MB/s eta 0:00:01\r\u001b[K     |███████▏                        | 296 kB 13.6 MB/s eta 0:00:01\r\u001b[K     |███████▌                        | 307 kB 13.6 MB/s eta 0:00:01\r\u001b[K     |███████▊                        | 317 kB 13.6 MB/s eta 0:00:01\r\u001b[K     |████████                        | 327 kB 13.6 MB/s eta 0:00:01\r\u001b[K     |████████▏                       | 337 kB 13.6 MB/s eta 0:00:01\r\u001b[K     |████████▌                       | 348 kB 13.6 MB/s eta 0:00:01\r\u001b[K     |████████▊                       | 358 kB 13.6 MB/s eta 0:00:01\r\u001b[K     |█████████                       | 368 kB 13.6 MB/s eta 0:00:01\r\u001b[K     |█████████▏                      | 378 kB 13.6 MB/s eta 0:00:01\r\u001b[K     |█████████▍                      | 389 kB 13.6 MB/s eta 0:00:01\r\u001b[K     |█████████▊                      | 399 kB 13.6 MB/s eta 0:00:01\r\u001b[K     |██████████                      | 409 kB 13.6 MB/s eta 0:00:01\r\u001b[K     |██████████▏                     | 419 kB 13.6 MB/s eta 0:00:01\r\u001b[K     |██████████▍                     | 430 kB 13.6 MB/s eta 0:00:01\r\u001b[K     |██████████▊                     | 440 kB 13.6 MB/s eta 0:00:01\r\u001b[K     |███████████                     | 450 kB 13.6 MB/s eta 0:00:01\r\u001b[K     |███████████▏                    | 460 kB 13.6 MB/s eta 0:00:01\r\u001b[K     |███████████▍                    | 471 kB 13.6 MB/s eta 0:00:01\r\u001b[K     |███████████▊                    | 481 kB 13.6 MB/s eta 0:00:01\r\u001b[K     |████████████                    | 491 kB 13.6 MB/s eta 0:00:01\r\u001b[K     |████████████▏                   | 501 kB 13.6 MB/s eta 0:00:01\r\u001b[K     |████████████▍                   | 512 kB 13.6 MB/s eta 0:00:01\r\u001b[K     |████████████▊                   | 522 kB 13.6 MB/s eta 0:00:01\r\u001b[K     |█████████████                   | 532 kB 13.6 MB/s eta 0:00:01\r\u001b[K     |█████████████▏                  | 542 kB 13.6 MB/s eta 0:00:01\r\u001b[K     |█████████████▍                  | 552 kB 13.6 MB/s eta 0:00:01\r\u001b[K     |█████████████▊                  | 563 kB 13.6 MB/s eta 0:00:01\r\u001b[K     |██████████████                  | 573 kB 13.6 MB/s eta 0:00:01\r\u001b[K     |██████████████▏                 | 583 kB 13.6 MB/s eta 0:00:01\r\u001b[K     |██████████████▍                 | 593 kB 13.6 MB/s eta 0:00:01\r\u001b[K     |██████████████▋                 | 604 kB 13.6 MB/s eta 0:00:01\r\u001b[K     |███████████████                 | 614 kB 13.6 MB/s eta 0:00:01\r\u001b[K     |███████████████▏                | 624 kB 13.6 MB/s eta 0:00:01\r\u001b[K     |███████████████▍                | 634 kB 13.6 MB/s eta 0:00:01\r\u001b[K     |███████████████▋                | 645 kB 13.6 MB/s eta 0:00:01\r\u001b[K     |████████████████                | 655 kB 13.6 MB/s eta 0:00:01\r\u001b[K     |████████████████▏               | 665 kB 13.6 MB/s eta 0:00:01\r\u001b[K     |████████████████▍               | 675 kB 13.6 MB/s eta 0:00:01\r\u001b[K     |████████████████▋               | 686 kB 13.6 MB/s eta 0:00:01\r\u001b[K     |█████████████████               | 696 kB 13.6 MB/s eta 0:00:01\r\u001b[K     |█████████████████▏              | 706 kB 13.6 MB/s eta 0:00:01\r\u001b[K     |█████████████████▍              | 716 kB 13.6 MB/s eta 0:00:01\r\u001b[K     |█████████████████▋              | 727 kB 13.6 MB/s eta 0:00:01\r\u001b[K     |██████████████████              | 737 kB 13.6 MB/s eta 0:00:01\r\u001b[K     |██████████████████▏             | 747 kB 13.6 MB/s eta 0:00:01\r\u001b[K     |██████████████████▍             | 757 kB 13.6 MB/s eta 0:00:01\r\u001b[K     |██████████████████▋             | 768 kB 13.6 MB/s eta 0:00:01\r\u001b[K     |██████████████████▉             | 778 kB 13.6 MB/s eta 0:00:01\r\u001b[K     |███████████████████▏            | 788 kB 13.6 MB/s eta 0:00:01\r\u001b[K     |███████████████████▍            | 798 kB 13.6 MB/s eta 0:00:01\r\u001b[K     |███████████████████▋            | 808 kB 13.6 MB/s eta 0:00:01\r\u001b[K     |███████████████████▉            | 819 kB 13.6 MB/s eta 0:00:01\r\u001b[K     |████████████████████▏           | 829 kB 13.6 MB/s eta 0:00:01\r\u001b[K     |████████████████████▍           | 839 kB 13.6 MB/s eta 0:00:01\r\u001b[K     |████████████████████▋           | 849 kB 13.6 MB/s eta 0:00:01\r\u001b[K     |████████████████████▉           | 860 kB 13.6 MB/s eta 0:00:01\r\u001b[K     |█████████████████████▏          | 870 kB 13.6 MB/s eta 0:00:01\r\u001b[K     |█████████████████████▍          | 880 kB 13.6 MB/s eta 0:00:01\r\u001b[K     |█████████████████████▋          | 890 kB 13.6 MB/s eta 0:00:01\r\u001b[K     |█████████████████████▉          | 901 kB 13.6 MB/s eta 0:00:01\r\u001b[K     |██████████████████████▏         | 911 kB 13.6 MB/s eta 0:00:01\r\u001b[K     |██████████████████████▍         | 921 kB 13.6 MB/s eta 0:00:01\r\u001b[K     |██████████████████████▋         | 931 kB 13.6 MB/s eta 0:00:01\r\u001b[K     |██████████████████████▉         | 942 kB 13.6 MB/s eta 0:00:01\r\u001b[K     |███████████████████████▏        | 952 kB 13.6 MB/s eta 0:00:01\r\u001b[K     |███████████████████████▍        | 962 kB 13.6 MB/s eta 0:00:01\r\u001b[K     |███████████████████████▋        | 972 kB 13.6 MB/s eta 0:00:01\r\u001b[K     |███████████████████████▉        | 983 kB 13.6 MB/s eta 0:00:01\r\u001b[K     |████████████████████████        | 993 kB 13.6 MB/s eta 0:00:01\r\u001b[K     |████████████████████████▍       | 1.0 MB 13.6 MB/s eta 0:00:01\r\u001b[K     |████████████████████████▋       | 1.0 MB 13.6 MB/s eta 0:00:01\r\u001b[K     |████████████████████████▉       | 1.0 MB 13.6 MB/s eta 0:00:01\r\u001b[K     |█████████████████████████       | 1.0 MB 13.6 MB/s eta 0:00:01\r\u001b[K     |█████████████████████████▍      | 1.0 MB 13.6 MB/s eta 0:00:01\r\u001b[K     |█████████████████████████▋      | 1.1 MB 13.6 MB/s eta 0:00:01\r\u001b[K     |█████████████████████████▉      | 1.1 MB 13.6 MB/s eta 0:00:01\r\u001b[K     |██████████████████████████      | 1.1 MB 13.6 MB/s eta 0:00:01\r\u001b[K     |██████████████████████████▍     | 1.1 MB 13.6 MB/s eta 0:00:01\r\u001b[K     |██████████████████████████▋     | 1.1 MB 13.6 MB/s eta 0:00:01\r\u001b[K     |██████████████████████████▉     | 1.1 MB 13.6 MB/s eta 0:00:01\r\u001b[K     |███████████████████████████     | 1.1 MB 13.6 MB/s eta 0:00:01\r\u001b[K     |███████████████████████████▍    | 1.1 MB 13.6 MB/s eta 0:00:01\r\u001b[K     |███████████████████████████▋    | 1.1 MB 13.6 MB/s eta 0:00:01\r\u001b[K     |███████████████████████████▉    | 1.1 MB 13.6 MB/s eta 0:00:01\r\u001b[K     |████████████████████████████    | 1.2 MB 13.6 MB/s eta 0:00:01\r\u001b[K     |████████████████████████████▎   | 1.2 MB 13.6 MB/s eta 0:00:01\r\u001b[K     |████████████████████████████▋   | 1.2 MB 13.6 MB/s eta 0:00:01\r\u001b[K     |████████████████████████████▉   | 1.2 MB 13.6 MB/s eta 0:00:01\r\u001b[K     |█████████████████████████████   | 1.2 MB 13.6 MB/s eta 0:00:01\r\u001b[K     |█████████████████████████████▎  | 1.2 MB 13.6 MB/s eta 0:00:01\r\u001b[K     |█████████████████████████████▋  | 1.2 MB 13.6 MB/s eta 0:00:01\r\u001b[K     |█████████████████████████████▉  | 1.2 MB 13.6 MB/s eta 0:00:01\r\u001b[K     |██████████████████████████████  | 1.2 MB 13.6 MB/s eta 0:00:01\r\u001b[K     |██████████████████████████████▎ | 1.2 MB 13.6 MB/s eta 0:00:01\r\u001b[K     |██████████████████████████████▋ | 1.3 MB 13.6 MB/s eta 0:00:01\r\u001b[K     |██████████████████████████████▉ | 1.3 MB 13.6 MB/s eta 0:00:01\r\u001b[K     |███████████████████████████████ | 1.3 MB 13.6 MB/s eta 0:00:01\r\u001b[K     |███████████████████████████████▎| 1.3 MB 13.6 MB/s eta 0:00:01\r\u001b[K     |███████████████████████████████▋| 1.3 MB 13.6 MB/s eta 0:00:01\r\u001b[K     |███████████████████████████████▉| 1.3 MB 13.6 MB/s eta 0:00:01\r\u001b[K     |████████████████████████████████| 1.3 MB 13.6 MB/s \n",
            "\u001b[?25hRequirement already satisfied: requests>=2.0.0 in /usr/local/lib/python3.7/dist-packages (from twilio) (2.23.0)\n",
            "Requirement already satisfied: pytz in /usr/local/lib/python3.7/dist-packages (from twilio) (2018.9)\n",
            "Collecting PyJWT<3.0.0,>=2.0.0\n",
            "  Downloading PyJWT-2.3.0-py3-none-any.whl (16 kB)\n",
            "Requirement already satisfied: idna<3,>=2.5 in /usr/local/lib/python3.7/dist-packages (from requests>=2.0.0->twilio) (2.10)\n",
            "Requirement already satisfied: urllib3!=1.25.0,!=1.25.1,<1.26,>=1.21.1 in /usr/local/lib/python3.7/dist-packages (from requests>=2.0.0->twilio) (1.24.3)\n",
            "Requirement already satisfied: chardet<4,>=3.0.2 in /usr/local/lib/python3.7/dist-packages (from requests>=2.0.0->twilio) (3.0.4)\n",
            "Requirement already satisfied: certifi>=2017.4.17 in /usr/local/lib/python3.7/dist-packages (from requests>=2.0.0->twilio) (2021.5.30)\n",
            "Installing collected packages: PyJWT, twilio\n",
            "Successfully installed PyJWT-2.3.0 twilio-7.3.0\n"
          ]
        }
      ]
    },
    {
      "cell_type": "code",
      "metadata": {
        "colab": {
          "base_uri": "https://localhost:8080/",
          "height": 35
        },
        "id": "ETdav63GJYxI",
        "outputId": "56c0abb0-5bd8-4ed6-f16b-7d638c80e54f"
      },
      "source": [
        "import chatterbot\n",
        "import chatterbot_corpus\n",
        "chatterbot_corpus.__version__"
      ],
      "execution_count": null,
      "outputs": [
        {
          "output_type": "execute_result",
          "data": {
            "application/vnd.google.colaboratory.intrinsic+json": {
              "type": "string"
            },
            "text/plain": [
              "'1.2.0'"
            ]
          },
          "metadata": {},
          "execution_count": 8
        }
      ]
    },
    {
      "cell_type": "code",
      "metadata": {
        "id": "XLQv3HNFKFPD"
      },
      "source": [
        "pip freeze > requirements.txt"
      ],
      "execution_count": null,
      "outputs": []
    },
    {
      "cell_type": "markdown",
      "metadata": {
        "id": "uc_yu3b1KM6P"
      },
      "source": [
        "# New Section"
      ]
    },
    {
      "cell_type": "code",
      "metadata": {
        "id": "-Kw3dDe0RrA3"
      },
      "source": [
        "import chatterbot"
      ],
      "execution_count": null,
      "outputs": []
    },
    {
      "cell_type": "code",
      "metadata": {
        "colab": {
          "base_uri": "https://localhost:8080/"
        },
        "id": "0i-Q798mRuU7",
        "outputId": "72111005-b6df-429e-83ef-8dba812a9eea"
      },
      "source": [
        "dir(chatterbot.corpus.list_corpus_files)"
      ],
      "execution_count": null,
      "outputs": [
        {
          "output_type": "execute_result",
          "data": {
            "text/plain": [
              "['__annotations__',\n",
              " '__call__',\n",
              " '__class__',\n",
              " '__closure__',\n",
              " '__code__',\n",
              " '__defaults__',\n",
              " '__delattr__',\n",
              " '__dict__',\n",
              " '__dir__',\n",
              " '__doc__',\n",
              " '__eq__',\n",
              " '__format__',\n",
              " '__ge__',\n",
              " '__get__',\n",
              " '__getattribute__',\n",
              " '__globals__',\n",
              " '__gt__',\n",
              " '__hash__',\n",
              " '__init__',\n",
              " '__init_subclass__',\n",
              " '__kwdefaults__',\n",
              " '__le__',\n",
              " '__lt__',\n",
              " '__module__',\n",
              " '__name__',\n",
              " '__ne__',\n",
              " '__new__',\n",
              " '__qualname__',\n",
              " '__reduce__',\n",
              " '__reduce_ex__',\n",
              " '__repr__',\n",
              " '__setattr__',\n",
              " '__sizeof__',\n",
              " '__str__',\n",
              " '__subclasshook__']"
            ]
          },
          "metadata": {},
          "execution_count": 29
        }
      ]
    },
    {
      "cell_type": "code",
      "metadata": {
        "id": "D2ht5sXIRxYM"
      },
      "source": [
        ""
      ],
      "execution_count": null,
      "outputs": []
    },
    {
      "cell_type": "code",
      "metadata": {
        "id": "TcFV44FERuut"
      },
      "source": [
        ""
      ],
      "execution_count": null,
      "outputs": []
    },
    {
      "cell_type": "markdown",
      "metadata": {
        "id": "vcrCN1HCO365"
      },
      "source": [
        ""
      ]
    },
    {
      "cell_type": "code",
      "metadata": {
        "colab": {
          "base_uri": "https://localhost:8080/"
        },
        "id": "o8p_-TFFL10P",
        "outputId": "337624ad-d110-4af9-e7f9-5c775b062e2c"
      },
      "source": [
        "from flask import Flask,request\n",
        "from chatterbot import ChatBot\n",
        "from chatterbot.trainers import ChatterBotCorpusTrainer\n",
        "from twilio.twiml.messaging_response import MessagingResponse\n",
        "\n",
        "app = Flask(__name__)\n",
        "chatbott = ChatBot('Sahara2')\n",
        "\n",
        "trainerr = ChatterBotCorpusTrainer(chatbott)\n",
        "\n",
        "trainerr.train('chatterbot.corpus.english')\n",
        "\n",
        "\n",
        "@app.route('/')\n",
        "def home():\n",
        "  return ('hello')\n",
        "\n",
        "@app.route('/chat',methods = ['POST'])\n",
        "def chat():\n",
        "  inc = request.values.get('Body','').lower()\n",
        "  resp = MessagingResponse()\n",
        "  mess = resp.message()\n",
        "\n",
        "  answ = chatbot.get_response(inc)\n",
        "  mess.body(str(answ))\n",
        "\n",
        "  return str(resp)\n",
        "\n",
        "if __name__ == '__main__':\n",
        "  app.run(port = 5000)"
      ],
      "execution_count": null,
      "outputs": [
        {
          "output_type": "stream",
          "name": "stdout",
          "text": [
            "Training ai.yml: [####################] 100%\n",
            "Training botprofile.yml: [####################] 100%\n",
            "Training computers.yml: [####################] 100%\n",
            "Training conversations.yml: [####################] 100%\n",
            "Training emotion.yml: [####################] 100%\n",
            "Training food.yml: [####################] 100%\n",
            "Training gossip.yml: [####################] 100%\n",
            "Training greetings.yml: [####################] 100%\n",
            "Training health.yml: [####################] 100%\n",
            "Training history.yml: [####################] 100%\n",
            "Training humor.yml: [####################] 100%\n",
            "Training literature.yml: [####################] 100%\n",
            "Training money.yml: [####################] 100%\n",
            "Training movies.yml: [####################] 100%\n",
            "Training politics.yml: [####################] 100%\n",
            "Training psychology.yml: [####################] 100%\n",
            "Training science.yml: [####################] 100%\n",
            "Training sports.yml: [####################] 100%\n",
            "Training trivia.yml: [####################] 100%\n",
            " * Serving Flask app \"__main__\" (lazy loading)\n",
            " * Environment: production\n",
            "\u001b[31m   WARNING: This is a development server. Do not use it in a production deployment.\u001b[0m\n",
            "\u001b[2m   Use a production WSGI server instead.\u001b[0m\n",
            " * Debug mode: off\n"
          ]
        },
        {
          "output_type": "stream",
          "name": "stderr",
          "text": [
            " * Running on http://127.0.0.1:5000/ (Press CTRL+C to quit)\n"
          ]
        }
      ]
    },
    {
      "cell_type": "code",
      "metadata": {
        "id": "ppCg7LWkRiyX"
      },
      "source": [
        ""
      ],
      "execution_count": null,
      "outputs": []
    }
  ]
}